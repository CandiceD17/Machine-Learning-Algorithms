{
 "cells": [
  {
   "cell_type": "markdown",
   "metadata": {},
   "source": [
    "# CS145 Howework 1 \n",
    "\n",
    "<span style=\"color:red\"> **Important Note:** </span>\n",
    "HW1 is due on **11:59 PM PT, Oct 19 (Monday, Week 3)**. Please submit through GradeScope (you will receive an invite to Gradescope for CS145 Fall 2020.). \n",
    "\n",
    "## Print Out Your Name and UID\n",
    "\n",
    "<span style=\"color:blue\"> **Name: Rui Deng, UID: 205123245** </span>\n",
    "\n",
    "## Before You Start\n",
    "\n",
    "You need to first create HW1 conda environment by the given `cs145hw1.yml` file, which provides the name and necessary packages for this tasks. If you have `conda` properly installed, you may create, activate or deactivate by the following commands:\n",
    "\n",
    "```\n",
    "conda env create -f cs145hw1.yml\n",
    "conda activate hw1\n",
    "conda deactivate\n",
    "```\n",
    "OR \n",
    "\n",
    "```\n",
    "conda env create --name NAMEOFYOURCHOICE -f cs145hw1.yml \n",
    "conda activate NAMEOFYOURCHOICE\n",
    "conda deactivate\n",
    "```\n",
    "To view the list of your environments, use the following command:\n",
    "```\n",
    "conda env list\n",
    "```\n",
    "\n",
    "More useful information about managing environments can be found [here](https://docs.conda.io/projects/conda/en/latest/user-guide/tasks/manage-environments.html).\n",
    "\n",
    "You may also quickly review the usage of basic Python and Numpy package, if needed in coding for matrix operations.\n",
    "\n",
    "In this notebook, you must not delete any code cells in this notebook. If you change any code outside the blocks that you are allowed to edit (between `STRART/END YOUR CODE HERE`), you need to highlight these changes. You may add some additional cells to help explain your results and observations."
   ]
  },
  {
   "cell_type": "code",
   "execution_count": 1,
   "metadata": {},
   "outputs": [],
   "source": [
    "import numpy as np \n",
    "import pandas as pd\n",
    "import sys \n",
    "import random as rd\n",
    "import matplotlib.pyplot as plt\n",
    "%load_ext autoreload\n",
    "%autoreload 2"
   ]
  },
  {
   "cell_type": "markdown",
   "metadata": {},
   "source": [
    "If you can successfully run the code above, there will be no problem for environment setting."
   ]
  },
  {
   "cell_type": "markdown",
   "metadata": {},
   "source": [
    "## 1. Linear regression \n",
    "This workbook will walk you through a linear regression example. "
   ]
  },
  {
   "cell_type": "code",
   "execution_count": 2,
   "metadata": {},
   "outputs": [
    {
     "name": "stdout",
     "output_type": "stream",
     "text": [
      "('Training data shape: ', (1000, 100))\n",
      "('Training labels shape:', (1000,))\n"
     ]
    }
   ],
   "source": [
    "from hw1code.linear_regression import LinearRegression\n",
    "\n",
    "lm=LinearRegression()\n",
    "lm.load_data('./data/linear-regression-train.csv','./data/linear-regression-test.csv')\n",
    "# As a sanity check, we print out the size of the training data (1000, 100) and training labels (1000,)\n",
    "print('Training data shape: ', lm.train_x.shape)\n",
    "print('Training labels shape:', lm.train_y.shape)"
   ]
  },
  {
   "cell_type": "markdown",
   "metadata": {},
   "source": [
    "### 1.1 Closed form solution\n",
    "In this section, complete the `getBeta` function in `linear_regression.py` which use the close for solution of $\\hat{\\beta}$.\n",
    "\n",
    "Train you model by using `lm.train('0')` function.\n",
    "\n",
    "Print the training error and the testing error using `lm.predict` and `lm.compute_mse` given."
   ]
  },
  {
   "cell_type": "code",
   "execution_count": 1,
   "metadata": {},
   "outputs": [
    {
     "name": "stdout",
     "output_type": "stream",
     "text": [
      "('Learning Algorithm Type: ', '0')\n",
      "('Training error is: ', 0.08693886675396784)\n",
      "('Testing error is: ', 0.110175402816758)\n"
     ]
    }
   ],
   "source": [
    "from hw1code.linear_regression import LinearRegression\n",
    "\n",
    "lm=LinearRegression()\n",
    "lm.load_data('./data/linear-regression-train.csv','./data/linear-regression-test.csv')\n",
    "training_error= 0\n",
    "testing_error= 0\n",
    "#========================#\n",
    "# STRART YOUR CODE HERE  #\n",
    "#========================#\n",
    "\n",
    "beta = lm.train('0')\n",
    "predicted_train_y = lm.predict(lm.train_x, beta)\n",
    "training_error = lm.compute_mse(predicted_train_y, lm.train_y)\n",
    "predicted_test_y = lm.predict(lm.test_x, beta)\n",
    "testing_error = lm.compute_mse(predicted_test_y, lm.test_y)\n",
    "\n",
    "#========================#\n",
    "#   END YOUR CODE HERE   #\n",
    "#========================# \n",
    "print('Training error is: ', training_error)\n",
    "print('Testing error is: ', testing_error)"
   ]
  },
  {
   "cell_type": "markdown",
   "metadata": {},
   "source": [
    "### 1.2 Batch gradient descent\n",
    "In this section, complete the `getBetaBatchGradient` function in `linear_regression.py` which compute the gradient of the objective fuction. \n",
    "\n",
    "Train you model by using `lm.train('1')` function.\n",
    "\n",
    "Print the training error and the testing error using `lm.predict` and `lm.compute_mse` given."
   ]
  },
  {
   "cell_type": "code",
   "execution_count": 2,
   "metadata": {},
   "outputs": [
    {
     "name": "stdout",
     "output_type": "stream",
     "text": [
      "('Learning Algorithm Type: ', '1')\n",
      "('Training accuracy is: ', 0.08694023606971792)\n",
      "('Testing accuracy is: ', 0.11021514372539926)\n"
     ]
    }
   ],
   "source": [
    "lm=LinearRegression()\n",
    "lm.load_data('./data/linear-regression-train.csv','./data/linear-regression-test.csv')\n",
    "training_error= 0\n",
    "testing_error= 0\n",
    "#========================#\n",
    "# STRART YOUR CODE HERE  #\n",
    "#========================#\n",
    "\n",
    "beta = lm.train('1')\n",
    "predicted_train_y = lm.predict(lm.train_x, beta)\n",
    "training_error = lm.compute_mse(predicted_train_y, lm.train_y)\n",
    "predicted_test_y = lm.predict(lm.test_x, beta)\n",
    "testing_error = lm.compute_mse(predicted_test_y, lm.test_y)\n",
    "\n",
    "#========================#\n",
    "#   END YOUR CODE HERE   #\n",
    "#========================# \n",
    "print('Training accuracy is: ', training_error)\n",
    "print('Testing accuracy is: ', testing_error)"
   ]
  },
  {
   "cell_type": "markdown",
   "metadata": {},
   "source": [
    "### 1.3 Stochastic gadient descent \n",
    "In this section, complete the `getBetaStochasticGradient` function in `linear_regression.py`, which use an estimated gradient of the objective function.\n",
    "\n",
    "Train you model by using `lm.train('2')` function.\n",
    "\n",
    "Print the training error and the testing error using `lm.predict` and `lm.compute_mse` given."
   ]
  },
  {
   "cell_type": "code",
   "execution_count": 4,
   "metadata": {},
   "outputs": [
    {
     "name": "stdout",
     "output_type": "stream",
     "text": [
      "('Learning Algorithm Type: ', '2')\n",
      "('Training accuracy is: ', 0.09862058021123295)\n",
      "('Testing accuracy is: ', 0.11634315938682402)\n"
     ]
    }
   ],
   "source": [
    "lm=LinearRegression()\n",
    "lm.load_data('./data/linear-regression-train.csv','./data/linear-regression-test.csv')\n",
    "training_error= 0\n",
    "testing_error= 0\n",
    "#========================#\n",
    "# STRART YOUR CODE HERE  #\n",
    "#========================#\n",
    "\n",
    "beta = lm.train('2')\n",
    "predicted_train_y = lm.predict(lm.train_x, beta)\n",
    "training_error = lm.compute_mse(predicted_train_y, lm.train_y)\n",
    "predicted_test_y = lm.predict(lm.test_x, beta)\n",
    "testing_error = lm.compute_mse(predicted_test_y, lm.test_y)\n",
    "\n",
    "#========================#\n",
    "#   END YOUR CODE HERE   #\n",
    "#========================# \n",
    "print('Training accuracy is: ', training_error)\n",
    "print('Testing accuracy is: ', testing_error)"
   ]
  },
  {
   "cell_type": "markdown",
   "metadata": {},
   "source": [
    "### Questions: \n",
    "1. Compare the MSE on the testing dataset for each version. Are they the same? Why or why not?\n",
    "2. Apply z-score normalization for eachh featrure and comment whether or not it affect the three algorithm. \n",
    "3. Ridge regression is adding an L2 regularization term to the original objective function of mean squared error. The objective function become following: \n",
    "    $$ J(\\beta) = \\frac{1}{2n} \\sum_i \\left(x_i^T\\beta - y_i \\right)^2 + \\frac{\\lambda}{2n} \\sum_j \\beta_j^2 ,$$ \n",
    "where $\\lambda \\geq 0$, which is a hyper parameter that controls the trade off. Take the derivative of this provided objective function and derive the closed form solution for $\\beta$. "
   ]
  },
  {
   "cell_type": "markdown",
   "metadata": {},
   "source": [
    "### Your answer here: \n"
   ]
  },
  {
   "cell_type": "markdown",
   "metadata": {},
   "source": [
    "<span style=\"color:blue\"> Please type your answer here! </span>\n",
    "1. MSE \n",
    "for closed form solution: 0.110175402816758\n",
    "\n",
    "for batch gradient descent: 0.11021514372539926\n",
    "\n",
    "for stochastic gradient descent (with learning rate 0.0005): 0.11634315938682402\n",
    "\n",
    "They are not the same. For closed form solution, the MSE is the same no matter how many times we run the algorithm. This is because we are calculating beta from a pre-defined formula and there is no randomness in closed form solution. However, there are small differences in MSE if we run the gradient descent method for multiple times, since we initialize beta randomly and also use random mini-batch for stochastic gradient descent. Thus, with such randomness, MSE from the last two methods cannot be the same with MSE in closed form solution.\n",
    "\n",
    "Still, all of the three methods give us similar error, since they all converge to the optimal solution.\n",
    "\n",
    "2. After normalization:\n",
    "for closed form solution: 0.110175402816758\n",
    "\n",
    "for batch gradient descent: 0.13744440164075847\n",
    "\n",
    "for stochastic gradient descent (with learning rate 0.0005): 0.13721370635089097\n",
    "\n",
    "Normalization does not change the MSE for closed form solution, but it does increase the MSE of testing set for both gradient descent methods. This is because we are using the mean and standard deviation of the training set to normalize the testing set, and the statistics for the training set may not be appropriate for the testing set.\n",
    "\n",
    "3. Derivative:\n",
    "\n",
    "$$ \\frac{\\partial J(\\beta)}{\\partial \\beta} = \\frac{1}{n} \\left( \\sum_i \\left(x_i^T\\beta - y_i \\right) x_i + \\lambda \\sum_j \\beta_j \\right) $$\n",
    "\n",
    "If we write this in vector form, we have:\n",
    "$$ \\frac{\\partial J(\\beta)}{\\partial \\beta} = \\frac{1}{n} \\left( X^T X \\beta - X^T y + \\lambda \\beta \\right) $$\n",
    "\n",
    "Set this derivative to 0, and we get:\n",
    "\n",
    "$$ \\beta = \\left(X^T X + \\lambda I \\right)^{-1} X^T y $$\n",
    "\n",
    "as our new closed form solution.\n"
   ]
  },
  {
   "cell_type": "markdown",
   "metadata": {},
   "source": [
    "## 2. Logistic regression \n",
    "This workbook will walk you through a logistic regression example. "
   ]
  },
  {
   "cell_type": "code",
   "execution_count": 3,
   "metadata": {},
   "outputs": [
    {
     "name": "stdout",
     "output_type": "stream",
     "text": [
      "('Training data shape: ', (1000, 5))\n",
      "('Training labels shape:', (1000,))\n"
     ]
    }
   ],
   "source": [
    "from hw1code.logistic_regression import LogisticRegression\n",
    "\n",
    "lm=LogisticRegression()\n",
    "lm.load_data('./data/logistic-regression-train.csv','./data/logistic-regression-test.csv')\n",
    "# As a sanity chech, we print out the size of the training data (1000, 5) and training labels (1000,)\n",
    "print('Training data shape: ', lm.train_x.shape)\n",
    "print('Training labels shape:', lm.train_y.shape)"
   ]
  },
  {
   "cell_type": "markdown",
   "metadata": {},
   "source": [
    "### 2.1 Batch gradiend descent\n",
    "In this section, complete the `getBeta_BatchGradient` in `logistic_regression.py`, which compute the gradient of the log likelihoood function. \n",
    "\n",
    "Complete the `compute_avglogL` function in `logistic_regression.py` for sanity check. \n",
    "\n",
    "Train you model by using `lm.train('0')` function.\n",
    "\n",
    "And print the training and testing accuracy using `lm.predict` and `lm.compute_accuracy` given. "
   ]
  },
  {
   "cell_type": "code",
   "execution_count": 19,
   "metadata": {},
   "outputs": [
    {
     "name": "stdout",
     "output_type": "stream",
     "text": [
      "average logL for iteration 0: -0.575495420086 \t\n",
      "average logL for iteration 1000: -0.504071168498 \t\n",
      "average logL for iteration 2000: -0.484364560378 \t\n",
      "average logL for iteration 3000: -0.475661811496 \t\n",
      "average logL for iteration 4000: -0.47087006589 \t\n",
      "average logL for iteration 5000: -0.467925360099 \t\n",
      "average logL for iteration 6000: -0.465993392131 \t\n",
      "average logL for iteration 7000: -0.46466668148 \t\n",
      "average logL for iteration 8000: -0.463722801457 \t\n",
      "average logL for iteration 9000: -0.463031297563 \t\n",
      "('Training avgLogL: ', -0.46251212811749887)\n",
      "('Training accuracy is: ', 0.8)\n",
      "('Testing accuracy is: ', 0.7415506958250497)\n"
     ]
    }
   ],
   "source": [
    "lm=LogisticRegression()\n",
    "lm.load_data('./data/logistic-regression-train.csv','./data/logistic-regression-test.csv')\n",
    "training_accuracy= 0\n",
    "testing_accuracy= 0\n",
    "#========================#\n",
    "# STRART YOUR CODE HERE  #\n",
    "#========================#\n",
    "beta = lm.train('0')\n",
    "predicted_train_y = lm.predict(lm.train_x, beta)\n",
    "training_accuracy = lm.compute_accuracy(predicted_train_y, lm.train_y)\n",
    "predicted_test_y = lm.predict(lm.test_x, beta)\n",
    "testing_accuracy = lm.compute_accuracy(predicted_test_y, lm.test_y)\n",
    "#========================#\n",
    "#   END YOUR CODE HERE   #\n",
    "#========================# \n",
    "print('Training accuracy is: ', training_accuracy)\n",
    "print('Testing accuracy is: ', testing_accuracy)"
   ]
  },
  {
   "cell_type": "markdown",
   "metadata": {},
   "source": [
    "### 2.2 Newton Raphhson\n",
    "In this section, complete the `getBeta_Newton` in `logistic_regression.py`, which make use of both first and second derivative.\n",
    "\n",
    "Train you model by using `lm.train('1')` function.\n",
    "\n",
    "Print the training and testing accuracy using `lm.predict` and `lm.compute_accuracy` given. "
   ]
  },
  {
   "cell_type": "code",
   "execution_count": 26,
   "metadata": {},
   "outputs": [
    {
     "name": "stdout",
     "output_type": "stream",
     "text": [
      "average logL for iteration 0: -0.620851256358 \t\n",
      "average logL for iteration 500: -0.527671233888 \t\n",
      "average logL for iteration 1000: -0.489163287119 \t\n",
      "average logL for iteration 1500: -0.472294578524 \t\n",
      "average logL for iteration 2000: -0.465045797813 \t\n",
      "average logL for iteration 2500: -0.46204601611 \t\n",
      "average logL for iteration 3000: -0.460848349572 \t\n",
      "average logL for iteration 3500: -0.460383332502 \t\n",
      "average logL for iteration 4000: -0.460206285828 \t\n",
      "average logL for iteration 4500: -0.460139749201 \t\n",
      "average logL for iteration 5000: -0.460114951079 \t\n",
      "average logL for iteration 5500: -0.460105756944 \t\n",
      "average logL for iteration 6000: -0.460102359119 \t\n",
      "average logL for iteration 6500: -0.460101105889 \t\n",
      "average logL for iteration 7000: -0.460100644216 \t\n",
      "average logL for iteration 7500: -0.460100474267 \t\n",
      "average logL for iteration 8000: -0.460100411734 \t\n",
      "average logL for iteration 8500: -0.460100388732 \t\n",
      "average logL for iteration 9000: -0.460100380272 \t\n",
      "average logL for iteration 9500: -0.46010037716 \t\n",
      "('Training avgLogL: ', -0.46010037601754294)\n",
      "('Training accuracy is: ', 0.797)\n",
      "('Testing accuracy is: ', 0.7534791252485089)\n"
     ]
    }
   ],
   "source": [
    "lm=LogisticRegression()\n",
    "lm.load_data('./data/logistic-regression-train.csv','./data/logistic-regression-test.csv')\n",
    "training_accuracy= 0\n",
    "testing_accuracy= 0\n",
    "#========================#\n",
    "# STRART YOUR CODE HERE  #\n",
    "#========================#\n",
    "beta = lm.train('1')\n",
    "predicted_train_y = lm.predict(lm.train_x, beta)\n",
    "training_accuracy = lm.compute_accuracy(predicted_train_y, lm.train_y)\n",
    "predicted_test_y = lm.predict(lm.test_x, beta)\n",
    "testing_accuracy = lm.compute_accuracy(predicted_test_y, lm.test_y)\n",
    "#========================#\n",
    "#   END YOUR CODE HERE   #\n",
    "#========================# \n",
    "print('Training accuracy is: ', training_accuracy)\n",
    "print('Testing accuracy is: ', testing_accuracy)"
   ]
  },
  {
   "cell_type": "markdown",
   "metadata": {},
   "source": [
    "### Questions: \n",
    "1. Compare the accuracy on the testing dataset for each version. Are they the same? Why or why not?\n",
    "2. Regularization. Similar to linear regression, an regularization term could be added to logistic regression. \n",
    "The objective function becomes following: \n",
    "    $$ J(\\beta) = -\\frac{1}{n} \\sum_i \\left(y_i x_i^T \\beta - \\log \\left( 1+ \\exp\\{ x_i^T \\beta \\} \\right) \\right) + \\lambda \\sum_j \\beta_j^2,$$ \n",
    "where $\\lambda \\geq 0$, which is a hyper parameter that controls the trade off. Take the derivative $\\frac{\\partial J(\\beta)}{\\partial \\beta_j}$ of this provided objective function and provide the batch gradient descent update."
   ]
  },
  {
   "cell_type": "markdown",
   "metadata": {},
   "source": [
    "### Your answer here:"
   ]
  },
  {
   "cell_type": "markdown",
   "metadata": {},
   "source": [
    "<span style=\"color:blue\"> Please type your answer here! </span>\n",
    "1. Testing accuracy\n",
    "for gradient descent: 0.7415506958250497\n",
    "for Newton Raphson: 0.7534791252485089\n",
    "Newton Raphson has slightly higher accuracy than batch gradient descent, probably because that it adjusts learning rate throughout the optimization process through the hessian matrix instead of using a pre-defined learning rate.\n",
    "\n",
    "2. Derivative\n",
    "$$ \\frac{\\partial J(\\beta)}{\\partial \\beta_j} = - \\frac{1}{n} \\sum_i x_{ij} \\left(y_i - p_i(\\beta) \\right) + 2\\lambda \\beta_j $$,\n",
    "and we define $p_i$ as\n",
    "$$p_i = \\frac {\\exp\\{ x_i^T \\beta \\}} {1 + \\exp\\{ x_i^T \\beta \\}} $$\n",
    "Then, we have the update rule as:\n",
    "$$ \\beta^{new} = \\beta^{old}  +\\frac{\\eta}{n}  \\sum_i x_{i} \\left(y_i - p_i(\\beta) \\right) + 2\\eta \\lambda \\beta^{old} $$"
   ]
  },
  {
   "cell_type": "markdown",
   "metadata": {},
   "source": [
    "### 2.3 Visualize the decision boundary on a toy dataset\n",
    "\n",
    "In this subsection, you will use the same implementation for another small dataset with each datapoint $x$ with only two features $(x_1, x_2)$ to visualize the decision boundary of logistic regression model."
   ]
  },
  {
   "cell_type": "code",
   "execution_count": 27,
   "metadata": {},
   "outputs": [
    {
     "name": "stdout",
     "output_type": "stream",
     "text": [
      "('Training data shape: ', (99, 2))\n",
      "('Training labels shape:', (99,))\n"
     ]
    }
   ],
   "source": [
    "from hw1code.logistic_regression import LogisticRegression\n",
    "\n",
    "lm=LogisticRegression(verbose = False)\n",
    "lm.load_data('./data/logistic-regression-toy.csv','./data/logistic-regression-toy.csv')\n",
    "# As a sanity chech, we print out the size of the training data (99,2) and training labels (99,)\n",
    "print('Training data shape: ', lm.train_x.shape)\n",
    "print('Training labels shape:', lm.train_y.shape)"
   ]
  },
  {
   "cell_type": "markdown",
   "metadata": {},
   "source": [
    "In the following block, you can apply the same implementation of logistic regression model (either in 2.1 or 2.2) to the toy dataset. Print out the $\\hat{\\beta}$ after training and accuracy on the train set.  "
   ]
  },
  {
   "cell_type": "code",
   "execution_count": 28,
   "metadata": {},
   "outputs": [
    {
     "name": "stdout",
     "output_type": "stream",
     "text": [
      "('Training avgLogL: ', -0.32937413231151724)\n",
      "[-0.04119331  1.41642477  1.97907353]\n",
      "('Training accuracy is: ', 0.8888888888888888)\n"
     ]
    }
   ],
   "source": [
    "training_accuracy= 0\n",
    "#========================#\n",
    "# STRART YOUR CODE HERE  #\n",
    "#========================#\n",
    "beta = lm.train('0')\n",
    "print(beta)\n",
    "predicted_train_y = lm.predict(lm.train_x, beta)\n",
    "training_accuracy = lm.compute_accuracy(predicted_train_y, lm.train_y)\n",
    "#========================#\n",
    "#   END YOUR CODE HERE   #\n",
    "#========================# \n",
    "print('Training accuracy is: ', training_accuracy)"
   ]
  },
  {
   "cell_type": "markdown",
   "metadata": {},
   "source": [
    "Next, we try to plot the decision boundary of your learned logistic regression classifier. Generally, a decision boundary is the region of a space in which the output label of a classifier is ambiguous. That is, in the given toy data, given a datapoint $x=(x_1, x_2)$ on the decision boundary, the logistic regression classifier cannot decide whether $y=0$ or $y=1$. "
   ]
  },
  {
   "cell_type": "markdown",
   "metadata": {},
   "source": [
    "### Question\n",
    "\n",
    "Is the decision boundary for logistic regression linear? Why or why not?"
   ]
  },
  {
   "cell_type": "markdown",
   "metadata": {},
   "source": [
    "### Your answer here:"
   ]
  },
  {
   "cell_type": "markdown",
   "metadata": {},
   "source": [
    "<span style=\"color:blue\"> Please type your answer here! </span>\n",
    "\n",
    "The boundary is linear because if $X\\beta$ > 0, our sigmoid function will give us probability > 0.5 thus belong to label 1; and vice versa. Thus, our decision boundary is $X\\beta$ = 0, which is a hyperplane in higher dimension and a line in 2D."
   ]
  },
  {
   "cell_type": "markdown",
   "metadata": {},
   "source": [
    "Draw the decision boundary in the following cell. Note that the code to plot the raw data points are given. You may need `plt.plot` function (see [here](https://matplotlib.org/tutorials/introductory/pyplot.html)). "
   ]
  },
  {
   "cell_type": "code",
   "execution_count": 30,
   "metadata": {},
   "outputs": [
    {
     "data": {
      "image/png": "[encoded data removed]",
      "text/plain": [
       "<Figure size 432x288 with 1 Axes>"
      ]
     },
     "metadata": {
      "needs_background": "light"
     },
     "output_type": "display_data"
    }
   ],
   "source": [
    "# scatter plot the raw data\n",
    "df = pd.concat([lm.train_x, lm.train_y], axis=1)\n",
    "groups = df.groupby(\"y\")\n",
    "for name, group in groups:\n",
    "    plt.plot(group[\"x1\"], group[\"x2\"], marker=\"o\", linestyle=\"\", label=name)\n",
    "    \n",
    "# plot the decision boundary on top of the scattered points\n",
    "#========================#\n",
    "# STRART YOUR CODE HERE  #\n",
    "#========================#\n",
    "xs = np.linspace(-2, 2, 100)\n",
    "ys = - beta[1] / beta[2] * xs - beta[0] / beta[2]\n",
    "plt.plot(xs, ys)\n",
    "#========================#\n",
    "#   END YOUR CODE HERE   #\n",
    "#========================#\n",
    "plt.show()"
   ]
  },
  {
   "cell_type": "markdown",
   "metadata": {},
   "source": [
    "# End of Homework 1 :)\n",
    "After you've finished the homework, please print out the entire `ipynb` notebook and two `py` files into one PDF file. Make sure you include the output of code cells and answers for questions. Prepare submit it to GradeScope. "
   ]
  }
 ],
 "metadata": {
  "kernelspec": {
   "display_name": "Python 2",
   "language": "python",
   "name": "python2"
  },
  "language_info": {
   "codemirror_mode": {
    "name": "ipython",
    "version": 2
   },
   "file_extension": ".py",
   "mimetype": "text/x-python",
   "name": "python",
   "nbconvert_exporter": "python",
   "pygments_lexer": "ipython2",
   "version": "2.7.16"
  }
 },
 "nbformat": 4,
 "nbformat_minor": 4
}
