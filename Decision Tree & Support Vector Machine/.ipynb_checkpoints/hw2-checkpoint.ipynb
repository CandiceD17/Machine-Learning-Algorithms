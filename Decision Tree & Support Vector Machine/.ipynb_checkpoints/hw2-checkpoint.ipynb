{
 "cells": [
  {
   "cell_type": "markdown",
   "metadata": {},
   "source": [
    "# CS145 Howework 2\n",
    "\n",
    "\n",
    "<span style=\"color:red\"> **Important Note:** </span>\n",
    "HW2 is due on **11:59 PM PT, Oct 30 (Friday, Week 4)**. Please submit through GradeScope. \n",
    "\n",
    "## Print Out Your Name and UID\n",
    "\n",
    "<span style=\"color:blue\"> **Name: Rui Deng, UID: 205123245** </span>\n",
    "\n",
    "## Before You Start\n",
    "\n",
    "You need to first create HW2 conda environment by the given `cs145hw2.yml` file, which provides the name and necessary packages for this tasks. If you have `conda` properly installed, you may create, activate or deactivate by the following commands:\n",
    "\n",
    "```\n",
    "conda env create -f cs145hw2.yml\n",
    "conda activate hw1\n",
    "conda deactivate\n",
    "```\n",
    "OR \n",
    "\n",
    "```\n",
    "conda env create --name NAMEOFYOURCHOICE -f cs145hw2.yml \n",
    "conda activate NAMEOFYOURCHOICE\n",
    "conda deactivate\n",
    "```\n",
    "To view the list of your environments, use the following command:\n",
    "```\n",
    "conda env list\n",
    "```\n",
    "\n",
    "More useful information about managing environments can be found [here](https://docs.conda.io/projects/conda/en/latest/user-guide/tasks/manage-environments.html).\n",
    "\n",
    "You may also quickly review the usage of basic Python and Numpy package, if needed in coding for matrix operations.\n",
    "\n",
    "In this notebook, you must not delete any code cells in this notebook. If you change any code outside the blocks (such as some important hyperparameters) that you are allowed to edit (between STRART/END YOUR CODE HERE), you need to highlight these changes. You may add some additional cells to help explain your results and observations."
   ]
  },
  {
   "cell_type": "code",
   "execution_count": 13,
   "metadata": {},
   "outputs": [
    {
     "name": "stdout",
     "output_type": "stream",
     "text": [
      "The autoreload extension is already loaded. To reload it, use:\n",
      "  %reload_ext autoreload\n"
     ]
    }
   ],
   "source": [
    "import numpy as np \n",
    "import pandas as pd\n",
    "import seaborn as sns\n",
    "import sys \n",
    "import random as rd\n",
    "import matplotlib.pyplot as plt\n",
    "%load_ext autoreload\n",
    "%autoreload 2"
   ]
  },
  {
   "cell_type": "markdown",
   "metadata": {},
   "source": [
    "If you can successfully run the code above, there will be no problem for environment setting."
   ]
  },
  {
   "cell_type": "markdown",
   "metadata": {},
   "source": [
    "## 1. Decision trees\n",
    "This workbook will walk you through a decision tree. "
   ]
  },
  {
   "cell_type": "markdown",
   "metadata": {},
   "source": [
    "### 1.1 Attribute selection measures\n"
   ]
  },
  {
   "cell_type": "markdown",
   "metadata": {},
   "source": [
    "For classification models, misclassification rate is usually used as the final performance measurement. However, for classification trees, when selecting which attribute to split, measurements people often use includes information gain, gain ratio, and Gini index. Let's investigate these different measurements through the following problem."
   ]
  },
  {
   "cell_type": "markdown",
   "metadata": {},
   "source": [
    "Note: below shows how to calculate the misclassification rate of a classification tree with $N$ total data points, $K$ classes of the value we want to predict, and $M$ leaf nodes. \n",
    "\n",
    "In a node $m$, $m = 1, ..., M$, let's denote the number of data points using $N_m$, and the number of data points in class k as $N_{mk}$, so the class prediction under majority vote is $j = argmax_k N_{mk}$. The misclassification rate of this node m is $R_m = 1 - \\frac{N_{mj}}{N_m}$. The total misclassification rate of the tree will be $R = \\frac{\\sum_{m=1}^M R_m * N_m}{N}$ "
   ]
  },
  {
   "cell_type": "markdown",
   "metadata": {},
   "source": [
    "\n",
    "**Questions**\n",
    "\n",
    "<span style=\"color:red\"> Note: this question is a pure \"question answer\" problem. You don't need to do any coding. </span>\n",
    "\n",
    "Suppose our dataset includes a total of 800 people with 400 males and 400 females, and our goal is to do gender classification. Consider two different possible attributes we can split on in a decision tree model. Split on the first attribute results in a node11 with 300 male and 100 female, and a node12 with 100 male and 300 female. Split on the second attribute results in in a node21 with 400 male and 200 female, and a node22 with 200 female only."
   ]
  },
  {
   "cell_type": "markdown",
   "metadata": {},
   "source": [
    "1. Which split do you prefer when the measurement is misclassifcation rate and why?\n",
    "2. What is the entropy in each of these four node? \n",
    "3. What is the information gain of each of the two splits?\n",
    "4. Which split do you prefer if the measurement is information gain. Do you see why it is an uncertainty or impurity measurement?\n",
    "5. What is the gain ratio (normalized information gain) of each of the two splits? Which split do you prefer under this measurement. Do you get the same conclusion as information gain? "
   ]
  },
  {
   "cell_type": "markdown",
   "metadata": {},
   "source": [
    "**Your answer here:**\n"
   ]
  },
  {
   "cell_type": "markdown",
   "metadata": {},
   "source": [
    "<span style=\"color:red\"> Note: you can use several code cells to help you compute the results and answer the questions. Again you don't need to do any coding. </span>"
   ]
  },
  {
   "cell_type": "markdown",
   "metadata": {},
   "source": [
    "<span style=\"color:blue\"> Please type your answer here! </span>"
   ]
  },
  {
   "cell_type": "markdown",
   "metadata": {},
   "source": [
    "answer 1\n",
    "\n",
    "By the definition of misclassification rate, we can see that it can be calculated as the number of misclassified samples divided by the total sample number.\n",
    "Thus, misclassification for the split on the first attribute is: (100 females are misclassified on node11, 100 males are misclassified on node 12)\n",
    "$$ \\frac {(100 + 100)} {800} = 0.25 $$\n",
    "Misclassification for the split on the second attribute: (200 females are misclassified on node21)\n",
    "$$ \\frac {200} {800} = 0.25 $$\n",
    "Thus, there is no different between two splits if we only consider the misclassification rate."
   ]
  },
  {
   "cell_type": "markdown",
   "metadata": {},
   "source": [
    "answer 2\n",
    "\n",
    "We know that:\n",
    "$$ Entropy = Info(D) = - \\sum_{i=1}^m p_i log_2(p_i) $$\n",
    "So entropy for node11 is:\n",
    "$$ Info(node11) = - \\frac {3} {4} log (\\frac {3} {4}) - \\frac {1} {4} log (\\frac {1} {4}) = 0.8112781 $$\n",
    "Similarly,\n",
    "$$ Info(node12) = - \\frac {3} {4} log (\\frac {3} {4}) - \\frac {1} {4} log (\\frac {1} {4}) = 0.8112781 $$\n",
    "\n",
    "$$ Info(node21) = - \\frac {2} {3} log (\\frac {2} {3}) - \\frac {1} {3} log (\\frac {1} {3}) = 0.9182958 $$\n",
    "\n",
    "$$ Info(node22) = - 1 log (1) = 0 $$\n",
    "\n",
    "\n"
   ]
  },
  {
   "cell_type": "markdown",
   "metadata": {},
   "source": [
    "answer 3\n",
    "\n",
    "We first calculate the entropy of dataset:\n",
    "$$ Info(root) = - \\frac {1} {2} log (\\frac {1} {2}) - \\frac {1} {2} log (\\frac {1} {2}) = 1 $$\n",
    "Then, the information gain for the first split is:\n",
    "$$ Gain(first) = 1 - (\\frac {400} {800} * 0.8112781 + \\frac {400} {800} * 0.8112781) = 0.187129 $$\n",
    "Similarly, the information gain for the second split is:\n",
    "$$ Gain(second) = 1 - (\\frac {600} {800} * 0.0.9182958 + \\frac {200} {800} * 0) = 0.31127813 $$"
   ]
  },
  {
   "cell_type": "markdown",
   "metadata": {},
   "source": [
    "answer 4\n",
    "\n",
    "We should choose the split on the second attribute, since it gives us the most information gain. \n",
    "\n",
    "The entropy is a measure of uncertainty, since when we have 400 females and 400 males in the root node, we have an entropy of 1, saying that we are totally unsure about the classification; conversely, when we have only 200 females in the node22, then the entropy is 0, meaning that there is no uncertainty or impurity in this node, and we are confident that this node should be classified to the female class."
   ]
  },
  {
   "cell_type": "markdown",
   "metadata": {},
   "source": [
    "answer 5\n",
    "\n",
    "By the formula, the split info of the first split is:\n",
    "$$ SplitInfo(first) = - \\frac {1} {2} log (\\frac {1} {2}) - \\frac {1} {2} log (\\frac {1} {2}) = 1 $$\n",
    "And the gain ratio of the split split is therefore:\n",
    "$$ GainRatio(first) = \\frac {Gain(first)} {SplitInfo(first)} = 0.18729$$\n",
    "Similarly:\n",
    "$$ SplitInfo(second) = - \\frac {3} {4} log (\\frac {3} {4}) - \\frac {1} {4} log (\\frac {1} {4}) = 0.8112781 $$\n",
    "\n",
    "$$ GainRatio(second) = \\frac {Gain(second)} {SplitInfo(second)} = 0.3836885$$\n",
    "\n",
    "Still, we will choose the second attribute to split, since it gives us the most gain ratio, and this result is the same as information gain."
   ]
  },
  {
   "cell_type": "markdown",
   "metadata": {},
   "source": [
    "## 1.2 Coding decision trees"
   ]
  },
  {
   "cell_type": "markdown",
   "metadata": {},
   "source": [
    "In this section, we are going to use the decision tree model to predict the the animal `type` class of the `zoo` dataset. The dataset has been preprocessed and splited into `decision-tree-train.csv` and `decision-tree-test.csv` for you.\n",
    "\n"
   ]
  },
  {
   "cell_type": "code",
   "execution_count": 14,
   "metadata": {
    "scrolled": true
   },
   "outputs": [
    {
     "name": "stdout",
     "output_type": "stream",
     "text": [
      "Training data shape:  (80, 17)\n",
      "Testing data shape: (21, 17)\n"
     ]
    }
   ],
   "source": [
    "from hw2code.decision_tree import DecisionTree\n",
    "mytree = DecisionTree()\n",
    "mytree.load_data('./data/decision-tree-train.csv','./data/decision-tree-test.csv')\n",
    "# As a sanity check, we print out the size of the training data (80, 17) and testing data (21, 17)\n",
    "print('Training data shape: ', mytree.train_data.shape)\n",
    "print('Testing data shape:', mytree.test_data.shape)"
   ]
  },
  {
   "cell_type": "markdown",
   "metadata": {},
   "source": [
    "### 1.2.1 Infomation gain"
   ]
  },
  {
   "cell_type": "markdown",
   "metadata": {},
   "source": [
    "Complete the `make_tree` and `compute_info_gain` function in `decision_tree.py`. \n",
    "\n",
    "Train you model using `info_gain` measure to classify `type` and print the test accuracy."
   ]
  },
  {
   "cell_type": "code",
   "execution_count": 25,
   "metadata": {},
   "outputs": [
    {
     "name": "stdout",
     "output_type": "stream",
     "text": [
      "best_feature is:  legs\n",
      "best_feature is:  fins\n",
      "best_feature is:  toothed\n",
      "best_feature is:  eggs\n",
      "best_feature is:  hair\n",
      "best_feature is:  hair\n",
      "best_feature is:  toothed\n",
      "best_feature is:  aquatic\n",
      "Test accuracy is:  0.8571428571428571\n"
     ]
    }
   ],
   "source": [
    "mytree = DecisionTree()\n",
    "mytree.load_data('./data/decision-tree-train.csv','./data/decision-tree-test.csv')\n",
    "test_acc= 0\n",
    "#========================#\n",
    "# STRART YOUR CODE HERE  #\n",
    "#========================#\n",
    "mytree.train('type', 'info_gain')\n",
    "test_acc = mytree.test('type')\n",
    "#========================#\n",
    "#   END YOUR CODE HERE   #\n",
    "#========================# \n",
    "print('Test accuracy is: ', test_acc)"
   ]
  },
  {
   "cell_type": "markdown",
   "metadata": {},
   "source": [
    "### 1.2.2 Gain ratio"
   ]
  },
  {
   "cell_type": "markdown",
   "metadata": {},
   "source": [
    "Complete the `compute_gain_ratio` function in `decision_tree.py`. \n",
    "\n",
    "Train you model using `gain_ratio` measure to classify `type` and print the test accuracy."
   ]
  },
  {
   "cell_type": "code",
   "execution_count": 27,
   "metadata": {},
   "outputs": [
    {
     "name": "stdout",
     "output_type": "stream",
     "text": [
      "best_feature is:  feathers\n",
      "best_feature is:  backbone\n",
      "best_feature is:  airborne\n",
      "best_feature is:  predator\n",
      "best_feature is:  milk\n",
      "best_feature is:  fins\n",
      "best_feature is:  legs\n",
      "Test accuracy is:  0.8095238095238095\n"
     ]
    }
   ],
   "source": [
    "mytree = DecisionTree()\n",
    "mytree.load_data('./data/decision-tree-train.csv','./data/decision-tree-test.csv')\n",
    "test_acc = 0\n",
    "#========================#\n",
    "# STRART YOUR CODE HERE  #\n",
    "#========================#\n",
    "mytree.train('type', 'gain_ratio')\n",
    "test_acc = mytree.test('type')\n",
    "#========================#\n",
    "#   END YOUR CODE HERE   #\n",
    "#========================# \n",
    "print('Test accuracy is: ', test_acc)"
   ]
  },
  {
   "cell_type": "markdown",
   "metadata": {},
   "source": [
    "**Question**\n",
    "\n",
    "Which measure do you like the most and why? "
   ]
  },
  {
   "cell_type": "markdown",
   "metadata": {},
   "source": [
    "**Your answer here:**\n",
    "\n",
    "We know that information gain is biased towards attributes with a large number of values, whereas the gain ratio tends to prefer unbalanced splits in which one partition is much smaller than others. Then, we need to examine our training set."
   ]
  },
  {
   "cell_type": "code",
   "execution_count": 37,
   "metadata": {},
   "outputs": [
    {
     "name": "stdout",
     "output_type": "stream",
     "text": [
      "hair:  [43 37]\n",
      "feathers:  [64 16]\n",
      "eggs:  [37 43]\n",
      "milk:  [44 36]\n",
      "airborne:  [62 18]\n",
      "aquatic:  [50 30]\n",
      "predator:  [31 49]\n",
      "toothed:  [30 50]\n",
      "backbone:  [13 67]\n",
      "breathes:  [17 63]\n",
      "venomous:  [74  6]\n",
      "fins:  [66 14]\n",
      "legs:  [17 20 33  8  2]\n",
      "tail:  [20 60]\n",
      "domistic:  [67 13]\n",
      "catsize:  [43 37]\n",
      "type:  [36 16  2 10  3  6  7]\n"
     ]
    }
   ],
   "source": [
    "mytree = DecisionTree()\n",
    "mytree.load_data('./data/decision-tree-train.csv','./data/decision-tree-test.csv')\n",
    "features = mytree.train_data.columns.values\n",
    "for feature in features:\n",
    "    vals, counts = np.unique(mytree.train_data[feature], return_counts=True)\n",
    "    print(\"%s: \" % feature, counts)"
   ]
  },
  {
   "cell_type": "markdown",
   "metadata": {},
   "source": [
    "We can see that there are only two attributes with multiple number of values other than two, but there are lots of attributes, such as venomous, tail, legs, and demoistic, that has unbalanced splits. Therefore, in this case, using information gain gives us a better accuracy."
   ]
  },
  {
   "cell_type": "markdown",
   "metadata": {},
   "source": [
    "## 2. SVM \n",
    "This workbook will walk you through a SVM. "
   ]
  },
  {
   "cell_type": "markdown",
   "metadata": {},
   "source": [
    "### 2.1 Support vectors and decision boundary\n",
    "\n",
    "<span style=\"color:red\"> Note: for this question you can work entirely in the Jupyter Notebook, no need to edit any .py files. </span>"
   ]
  },
  {
   "cell_type": "markdown",
   "metadata": {},
   "source": [
    "Consider classifying the following 20 data points in the 2-d plane with class label y"
   ]
  },
  {
   "cell_type": "code",
   "execution_count": 38,
   "metadata": {},
   "outputs": [
    {
     "data": {
      "text/html": [
       "<div>\n",
       "<style scoped>\n",
       "    .dataframe tbody tr th:only-of-type {\n",
       "        vertical-align: middle;\n",
       "    }\n",
       "\n",
       "    .dataframe tbody tr th {\n",
       "        vertical-align: top;\n",
       "    }\n",
       "\n",
       "    .dataframe thead th {\n",
       "        text-align: right;\n",
       "    }\n",
       "</style>\n",
       "<table border=\"1\" class=\"dataframe\">\n",
       "  <thead>\n",
       "    <tr style=\"text-align: right;\">\n",
       "      <th></th>\n",
       "      <th>x1</th>\n",
       "      <th>x2</th>\n",
       "      <th>y</th>\n",
       "    </tr>\n",
       "  </thead>\n",
       "  <tbody>\n",
       "    <tr>\n",
       "      <th>0</th>\n",
       "      <td>0.52</td>\n",
       "      <td>-1.00</td>\n",
       "      <td>1</td>\n",
       "    </tr>\n",
       "    <tr>\n",
       "      <th>1</th>\n",
       "      <td>0.91</td>\n",
       "      <td>0.32</td>\n",
       "      <td>1</td>\n",
       "    </tr>\n",
       "    <tr>\n",
       "      <th>2</th>\n",
       "      <td>-1.48</td>\n",
       "      <td>1.23</td>\n",
       "      <td>1</td>\n",
       "    </tr>\n",
       "    <tr>\n",
       "      <th>3</th>\n",
       "      <td>0.01</td>\n",
       "      <td>1.44</td>\n",
       "      <td>1</td>\n",
       "    </tr>\n",
       "    <tr>\n",
       "      <th>4</th>\n",
       "      <td>-0.46</td>\n",
       "      <td>-0.37</td>\n",
       "      <td>1</td>\n",
       "    </tr>\n",
       "  </tbody>\n",
       "</table>\n",
       "</div>"
      ],
      "text/plain": [
       "     x1    x2  y\n",
       "0  0.52 -1.00  1\n",
       "1  0.91  0.32  1\n",
       "2 -1.48  1.23  1\n",
       "3  0.01  1.44  1\n",
       "4 -0.46 -0.37  1"
      ]
     },
     "execution_count": 38,
     "metadata": {},
     "output_type": "execute_result"
    }
   ],
   "source": [
    "ds = pd.read_csv('data/svm-2d-data.csv')\n",
    "ds.head()\n",
    "# This command above will print out the first five data points\n",
    "# in the dataset with column names as \"x1\", \"x2\" and \"y\"\n",
    "# You may use command \"ds\" to show the entire dataset, which contains 20 data points"
   ]
  },
  {
   "cell_type": "markdown",
   "metadata": {},
   "source": [
    "Suppose by solving the dual form of the quadratic programming of svm, we can derive the $\\alpha_i$’s for each data point as follows: Among $j=0,1,\\cdots, 19$ (note that the index starts from 0), $\\alpha_1$ = 0.5084, $\\alpha_5$ = 0.4625, $\\alpha_{17}$ = 0.9709, and $\\alpha_j$ = 0 for all other $j$."
   ]
  },
  {
   "cell_type": "markdown",
   "metadata": {},
   "source": [
    "**Questions** \n"
   ]
  },
  {
   "cell_type": "markdown",
   "metadata": {},
   "source": [
    "1. Which vectors in the training points are support vectors?\n",
    "2. What is the normal vector of the hyperplane $w$? \n",
    "3. What is the bias $b$? \n",
    "4. With the parameters $w$ and $b$, we can now use our SVM to do predictions. What is predicted label of $x_{new} = (2,-0.5)$? Write out your $f(x_{new})$.\n",
    "5. A plot of the data points has been generated for you. Please change the `support_vec` variable such that only the support vectors are indicated by red circles. Please also fill in the code to draw the decision boundary. Does your prediction of part 4 seems right visually on the plot?\n",
    "\n"
   ]
  },
  {
   "cell_type": "markdown",
   "metadata": {},
   "source": [
    "**Your answer here**\n"
   ]
  },
  {
   "cell_type": "markdown",
   "metadata": {},
   "source": [
    "<span style=\"color:red\"> Note: you can use several code cells to help you compute the results and answer the questions. Again you don't need to edit any .py files. </span>"
   ]
  },
  {
   "cell_type": "markdown",
   "metadata": {},
   "source": [
    "<span style=\"color:blue\"> Please type your answer here! </span>"
   ]
  },
  {
   "cell_type": "markdown",
   "metadata": {},
   "source": [
    "answer 1\n",
    "\n",
    "The support vectors are data points with non-zero $ \\alpha $ values. In this case, data point 1, 5, 17 are the only three support vectors."
   ]
  },
  {
   "cell_type": "markdown",
   "metadata": {},
   "source": [
    "answer 2\n",
    "\n",
    "The solution of SVM gives us the normal vector as:\n",
    "$$ w = \\sum {a_i y_i x_i} $$\n",
    "Thus, we have:"
   ]
  },
  {
   "cell_type": "code",
   "execution_count": 46,
   "metadata": {},
   "outputs": [
    {
     "name": "stdout",
     "output_type": "stream",
     "text": [
      "[-1.338076 -0.388998]\n"
     ]
    }
   ],
   "source": [
    "w = 0.5084 * ds.iloc[1][2] * ds.iloc[1][:2].to_numpy() + 0.4625 * ds.iloc[5][2] * ds.iloc[5][:2].to_numpy() + \\\n",
    "0.9709 * ds.iloc[17][2] * ds.iloc[17][:2].to_numpy()\n",
    "print(w)"
   ]
  },
  {
   "cell_type": "markdown",
   "metadata": {},
   "source": [
    "So the normal vector is  $ w = [-1.338076, -0.388998] $."
   ]
  },
  {
   "cell_type": "markdown",
   "metadata": {},
   "source": [
    "answer 3\n",
    "\n",
    "The solution of SVM gives us the bias term as:\n",
    "$$  b = y_k - w^T x_k $$ for any $x_k$ with non-zero $\\alpha_k$ term.\n",
    "Thus, we have:"
   ]
  },
  {
   "cell_type": "code",
   "execution_count": 71,
   "metadata": {},
   "outputs": [
    {
     "name": "stdout",
     "output_type": "stream",
     "text": [
      "2.342136106666666\n"
     ]
    }
   ],
   "source": [
    "b = ds.iloc[1][2] - w.dot(ds.iloc[1][:2].to_numpy())\n",
    "b += ds.iloc[5][2] - w.dot(ds.iloc[5][:2].to_numpy())\n",
    "b += ds.iloc[17][2] - w.dot(ds.iloc[17][:2].to_numpy())\n",
    "b /= 3\n",
    "print(b)"
   ]
  },
  {
   "cell_type": "markdown",
   "metadata": {},
   "source": [
    "Here, we take the average of three possible bias terms, and the bias is therefore 2.3421361."
   ]
  },
  {
   "cell_type": "markdown",
   "metadata": {},
   "source": [
    "answer 4\n",
    "\n",
    "We know that\n",
    "$$ f(x_{new}) = w^T x_k + b $$\n",
    "So we have:"
   ]
  },
  {
   "cell_type": "code",
   "execution_count": 60,
   "metadata": {},
   "outputs": [
    {
     "name": "stdout",
     "output_type": "stream",
     "text": [
      "-0.1395168933333335\n"
     ]
    }
   ],
   "source": [
    "x = np.array([2, -0.5])\n",
    "f = w.dot(x) + b\n",
    "print(f)"
   ]
  },
  {
   "cell_type": "markdown",
   "metadata": {},
   "source": [
    "Here, we have $ f(x_{new}) = -0.139516893 $ is less than 0, so we predict that it belongs to y = -1."
   ]
  },
  {
   "cell_type": "code",
   "execution_count": 73,
   "metadata": {},
   "outputs": [
    {
     "data": {
      "image/png": "[encoded data removed]",
      "text/plain": [
       "<Figure size 720x576 with 1 Axes>"
      ]
     },
     "metadata": {
      "needs_background": "light"
     },
     "output_type": "display_data"
    }
   ],
   "source": [
    "# answer 5\n",
    "x1_range = np.arange(-2, 5, 0.5)\n",
    "x2_range = np.arange(-2, 4., 0.5)\n",
    "\n",
    "fig, ax = plt.subplots(figsize=(10, 8))\n",
    "ax = fig.gca()\n",
    "ax.set_xticks(x1_range)\n",
    "ax.set_yticks(x2_range)\n",
    "ax.grid()\n",
    "ax.scatter(ds['x1'], ds['x2'], c=ds['y'])\n",
    "\n",
    "support_vec = ds\n",
    "#========================#\n",
    "# STRART YOUR CODE HERE  #\n",
    "#========================#\n",
    "support_vec = ds.iloc[[1, 5, 17], :]\n",
    "xs = np.linspace(1, 2, 100)\n",
    "ys = - w[0] / w[1] * xs - b / w[1]\n",
    "ax.plot(xs, ys)\n",
    "#========================#\n",
    "#   END YOUR CODE HERE   #\n",
    "#========================# \n",
    "ax.scatter(support_vec['x1'], support_vec['x2'], marker='o', facecolor='none', s=200, color='red')\n",
    "sns.despine(ax=ax, left=True, bottom=True, offset=0)\n",
    "plt.show()"
   ]
  },
  {
   "cell_type": "markdown",
   "metadata": {},
   "source": [
    "## 2.2 Coding SVM"
   ]
  },
  {
   "cell_type": "markdown",
   "metadata": {},
   "source": [
    "In this section, we are going to use SVM for classifying the `y` value of 4-dimensional data points. The dataset has been preprocessed and splited into `svm-train.csv` and `svm-test.csv` for you.\n",
    "\n"
   ]
  },
  {
   "cell_type": "markdown",
   "metadata": {},
   "source": [
    "For this question we are going to use the `cvxopt` package to help us solve the optimization problem of SVM. You will see it in the .py files, but you don't need to any coding with it. For this question, you only need to implement the right kernel function, and your kernel matrix `K` in `svm.py` line 135 will be pluged in the cvxopt optimization problem solver.\n",
    "\n",
    "\n",
    "For more information about `cvxopt` please refer to http://cvxopt.org/"
   ]
  },
  {
   "cell_type": "code",
   "execution_count": 76,
   "metadata": {},
   "outputs": [
    {
     "name": "stdout",
     "output_type": "stream",
     "text": [
      "Training data shape:  (1098, 4) (1098,)\n",
      "Testing data shape: (274, 4) (274,)\n"
     ]
    }
   ],
   "source": [
    "from hw2code.svm import SVM\n",
    "svm = SVM()\n",
    "svm.load_data('./data/svm-train.csv', './data/svm-test.csv')\n",
    "# As a sanity check, we print out the size of the training data (1098, 4) and (1098,) and testing data (274, 4) and (274,)\n",
    "print('Training data shape: ', svm.train_x.shape, svm.train_y.shape)\n",
    "print('Testing data shape:', svm.test_x.shape, svm.test_y.shape)"
   ]
  },
  {
   "cell_type": "markdown",
   "metadata": {},
   "source": [
    "### 2.2.1 Linear kernel"
   ]
  },
  {
   "cell_type": "markdown",
   "metadata": {},
   "source": [
    "Complete the `SVM.predict` and `linear_kernel` function in `svm.py`. \n",
    "Train a hard margin SVM and a soft margin SVM with linear kernel. Print the test accuracy for both cases."
   ]
  },
  {
   "cell_type": "code",
   "execution_count": 84,
   "metadata": {
    "scrolled": true
   },
   "outputs": [
    {
     "name": "stdout",
     "output_type": "stream",
     "text": [
      "1098 support vectors out of 1098 points\n",
      "Hard margin test accuracy is:  0.5547445255474452\n",
      "Soft margin test accuracy is:  0\n"
     ]
    }
   ],
   "source": [
    "svm_hard = SVM()\n",
    "svm_hard.load_data('./data/svm-train.csv', './data/svm-test.csv')\n",
    "hard_test_acc = 0\n",
    "#========================#\n",
    "# STRART YOUR CODE HERE  #\n",
    "#========================#\n",
    "svm_hard.train()\n",
    "hard_test_acc = svm_hard.test()\n",
    "#========================#\n",
    "#   END YOUR CODE HERE   #\n",
    "#========================# \n",
    "\n",
    "svm_soft = SVM()\n",
    "svm_soft.load_data('./data/svm-train.csv', './data/svm-test.csv')\n",
    "soft_test_acc = 0\n",
    "#========================#\n",
    "# STRART YOUR CODE HERE  #\n",
    "#========================#\n",
    "svm_soft.train(C=1)\n",
    "soft_test_acc = svm_soft.test()\n",
    "#========================#\n",
    "#   END YOUR CODE HERE   #\n",
    "#========================# \n",
    "print('Hard margin test accuracy is: ', hard_test_acc)\n",
    "print('Soft margin test accuracy is: ', soft_test_acc)"
   ]
  },
  {
   "cell_type": "markdown",
   "metadata": {},
   "source": [
    "**Questions** \n"
   ]
  },
  {
   "cell_type": "markdown",
   "metadata": {},
   "source": [
    " Are these two results similar? Why or why not?"
   ]
  },
  {
   "cell_type": "markdown",
   "metadata": {},
   "source": [
    "**Your Answer**"
   ]
  },
  {
   "cell_type": "markdown",
   "metadata": {},
   "source": [
    "<span style=\"color:blue\"> Please write down your answers and/or observations here </span>"
   ]
  },
  {
   "cell_type": "markdown",
   "metadata": {},
   "source": [
    "### 2.2.2 Polynomial kernel"
   ]
  },
  {
   "cell_type": "markdown",
   "metadata": {},
   "source": [
    "Complete the `polynomial_kernel` function in `svm.py`. \n",
    "Train a soft margin SVM with degree 3 polynomial kernel and parameter `C = 100` for the regularization term. Print the test accuracy. "
   ]
  },
  {
   "cell_type": "code",
   "execution_count": null,
   "metadata": {
    "scrolled": true
   },
   "outputs": [],
   "source": [
    "svm = SVM()\n",
    "svm.load_data('./data/svm-train.csv', './data/svm-test.csv')\n",
    "test_acc = 0\n",
    "#========================#\n",
    "# STRART YOUR CODE HERE  #\n",
    "#========================#\n",
    "\n",
    "#========================#\n",
    "#   END YOUR CODE HERE   #\n",
    "#========================# \n",
    "print('Test accuracy is: ', test_acc)"
   ]
  },
  {
   "cell_type": "markdown",
   "metadata": {},
   "source": [
    "**Questions** \n"
   ]
  },
  {
   "cell_type": "markdown",
   "metadata": {},
   "source": [
    " Is the result better than linear kernel? Why or why not?"
   ]
  },
  {
   "cell_type": "markdown",
   "metadata": {},
   "source": [
    "**Your Answer**"
   ]
  },
  {
   "cell_type": "markdown",
   "metadata": {},
   "source": [
    "<span style=\"color:blue\"> Please write down your answers and/or observations here </span>"
   ]
  },
  {
   "cell_type": "markdown",
   "metadata": {},
   "source": [
    "### 2.2.3 Gaussian kernel"
   ]
  },
  {
   "cell_type": "markdown",
   "metadata": {},
   "source": [
    "Complete the `gaussian_kernel` function using the `gaussian_kernel_point` in `svm.py`. \n",
    "Train a soft margin SVM with Gaussian kernel and parameter `C = 100` for the regularization term. Print the test accuracy. "
   ]
  },
  {
   "cell_type": "code",
   "execution_count": null,
   "metadata": {
    "scrolled": true
   },
   "outputs": [],
   "source": [
    "svm = SVM()\n",
    "svm.load_data('./data/svm-train.csv', './data/svm-test.csv')\n",
    "test_acc = 0\n",
    "#========================#\n",
    "# STRART YOUR CODE HERE  #\n",
    "#========================#\n",
    "\n",
    "#========================#\n",
    "#   END YOUR CODE HERE   #\n",
    "#========================# \n",
    "print('Test accuracy is: ', test_acc)"
   ]
  },
  {
   "cell_type": "markdown",
   "metadata": {},
   "source": [
    "**Questions** \n"
   ]
  },
  {
   "cell_type": "markdown",
   "metadata": {},
   "source": [
    " 1. Is the result better than linear kernel and polynomial kernel? Why or why not?\n",
    " 2. Which one of these four models do you like the most and why?\n",
    " 3. (Bonus question, optional) Can you come up with a vectorized implementation of `gaussian_kernel` without calling `gaussian_kernel_point`? Fill that in svm.py."
   ]
  },
  {
   "cell_type": "markdown",
   "metadata": {},
   "source": [
    "**Your Answer**"
   ]
  },
  {
   "cell_type": "markdown",
   "metadata": {},
   "source": [
    "<span style=\"color:blue\"> Please write down your answers and/or observations here </span>"
   ]
  },
  {
   "cell_type": "markdown",
   "metadata": {},
   "source": [
    "answer 1"
   ]
  },
  {
   "cell_type": "markdown",
   "metadata": {},
   "source": [
    "answer 2"
   ]
  },
  {
   "cell_type": "markdown",
   "metadata": {},
   "source": [
    "# End of Homework 2 :)\n",
    "After you've finished the homework, please print out the entire `ipynb` notebook and two `py` files into one PDF file. Make sure you include the output of code cells and answers for questions. Prepare submit it to GradeScope. Also this time remember assign the pages to the questions on GradeScope"
   ]
  }
 ],
 "metadata": {
  "kernelspec": {
   "display_name": "Python 3",
   "language": "python",
   "name": "python3"
  },
  "language_info": {
   "codemirror_mode": {
    "name": "ipython",
    "version": 3
   },
   "file_extension": ".py",
   "mimetype": "text/x-python",
   "name": "python",
   "nbconvert_exporter": "python",
   "pygments_lexer": "ipython3",
   "version": "3.6.12"
  }
 },
 "nbformat": 4,
 "nbformat_minor": 4
}
