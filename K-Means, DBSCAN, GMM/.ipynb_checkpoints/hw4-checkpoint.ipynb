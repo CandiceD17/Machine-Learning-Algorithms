{
 "cells": [
  {
   "cell_type": "markdown",
   "metadata": {},
   "source": [
    "# CS145 Howework 4\n",
    "\n",
    "\n",
    "<span style=\"color:red\"> **Important Note:** </span>\n",
    "HW4 is due on **11:59 PM PT, Nov 20 (Friday, Week 7)**. Please submit through GradeScope. \n",
    "\n",
    "## Print Out Your Name and UID\n",
    "\n",
    "<span style=\"color:blue\"> **Name: Rui Deng, UID: 205123245** </span>\n",
    "\n",
    "## Before You Start\n",
    "\n",
    "You need to first create HW4 conda environment by the given `cs145hw4.yml` file, which provides the name and necessary packages for this tasks. If you have `conda` properly installed, you may create, activate or deactivate by the following commands:\n",
    "\n",
    "```\n",
    "conda env create -f cs145hw4.yml\n",
    "conda activate hw4\n",
    "conda deactivate\n",
    "```\n",
    "OR \n",
    "\n",
    "```\n",
    "conda env create --name NAMEOFYOURCHOICE -f cs145hw4.yml \n",
    "conda activate NAMEOFYOURCHOICE\n",
    "conda deactivate\n",
    "```\n",
    "To view the list of your environments, use the following command:\n",
    "```\n",
    "conda env list\n",
    "```\n",
    "\n",
    "More useful information about managing environments can be found [here](https://docs.conda.io/projects/conda/en/latest/user-guide/tasks/manage-environments.html).\n",
    "\n",
    "You may also quickly review the usage of basic Python and Numpy package, if needed in coding for matrix operations.\n",
    "\n",
    "In this notebook, you must not delete any code cells in this notebook. If you change any code outside the blocks (such as some important hyperparameters) that you are allowed to edit (between STRART/END YOUR CODE HERE), you need to highlight these changes. You may add some additional cells to help explain your results and observations."
   ]
  },
  {
   "cell_type": "code",
   "execution_count": 1,
   "metadata": {},
   "outputs": [],
   "source": [
    "import numpy as np \n",
    "import pandas as pd\n",
    "import sys \n",
    "import random\n",
    "import math\n",
    "import matplotlib.pyplot as plt\n",
    "from scipy.stats import multivariate_normal\n",
    "%load_ext autoreload\n",
    "%autoreload 2"
   ]
  },
  {
   "cell_type": "markdown",
   "metadata": {},
   "source": [
    "If you can successfully run the code above, there will be no problem for environment setting."
   ]
  },
  {
   "cell_type": "markdown",
   "metadata": {},
   "source": [
    "## 1. Clustering Evaluation\n",
    "This workbook will walk you through an example for calculating different clustering metrics. \n",
    "\n",
    "<span style=\"color:red\"> Note: This is a \"question-answer\" style problem. You do not need to code anything and you are required to calculate by hand (with a scientific calculator). </span>"
   ]
  },
  {
   "cell_type": "markdown",
   "metadata": {},
   "source": [
    "**Questions**\n",
    "\n",
    "\n",
    "Suppose we want to cluster the following 20 conferences into four areas, with ground truth label and algorithm output label shown in third and fourth column. Please evaluate the quality of the clustering algorithm according to four different metrics respectively.<img src=\"conferences.png\"  width=\"600\"/>"
   ]
  },
  {
   "cell_type": "markdown",
   "metadata": {},
   "source": [
    "\n",
    "**Questions (please include intermediate steps)**\n",
    "\n"
   ]
  },
  {
   "cell_type": "markdown",
   "metadata": {},
   "source": [
    "1. Calculate purity.\n",
    "2. Calculate precision.\n",
    "3. Calculate recall.\n",
    "4. Calculate F1-score.\n",
    "5. Calculate normalized mutual information."
   ]
  },
  {
   "cell_type": "markdown",
   "metadata": {},
   "source": [
    "**Your answer here:**\n"
   ]
  },
  {
   "cell_type": "markdown",
   "metadata": {},
   "source": [
    "<span style=\"color:red\"> Note: you can use several code cells to help you compute the results and answer the questions. Again you don't need to do any coding. </span>"
   ]
  },
  {
   "cell_type": "markdown",
   "metadata": {},
   "source": [
    "<span style=\"color:blue\"> Please type your answer here! </span>"
   ]
  },
  {
   "cell_type": "markdown",
   "metadata": {},
   "source": [
    "answer 1"
   ]
  },
  {
   "cell_type": "markdown",
   "metadata": {},
   "source": [
    "We assign algorithm output label 1 to ground truth label 2, and all of the 5 datapoints are matched.\n",
    "\n",
    "We assign algorithm output label 2 to ground truth label 3, and 5 out of the 6 datapoints are matched. (the non-matched datapoint has ground truth label 1)\n",
    "\n",
    "We assign algorithm output label 3 to ground truth label 1, and 4 out of the 5 datapoints are matched. (the non-matched datapoint has ground truth label 4)\n",
    "\n",
    "We assign algorithm output label 4 to ground truth label 4, and 4 out of the 4 datapoints are matched.\n",
    "\n",
    "So the purity is:\n",
    "\n",
    "$$ purity = \\frac {1} {N} \\sum_k {max |c_k \\cap \\omega_j|} = \\frac {1} {20} * (5 + 5 + 4 + 4) = 0.9 $$\n"
   ]
  },
  {
   "cell_type": "markdown",
   "metadata": {},
   "source": [
    "answer 2"
   ]
  },
  {
   "cell_type": "markdown",
   "metadata": {},
   "source": [
    "Precision is  $ \\frac {TP} {TP + FP} $. Then we use coding to calculate TP, FP, TN, and FN:"
   ]
  },
  {
   "cell_type": "code",
   "execution_count": 4,
   "metadata": {},
   "outputs": [
    {
     "name": "stdout",
     "output_type": "stream",
     "text": [
      "0.7804878048780488\n"
     ]
    }
   ],
   "source": [
    "ground_truth = [3, 3, 1, 1, 1, 4, 3, 3, 4, 2, 4, 2, 1, 2, 3, 2, 1, 2, 4, 4]\n",
    "output_label = [2, 2, 3, 3, 3, 4, 2, 2, 3, 1, 4, 1, 3, 1, 2, 1, 2, 1, 4, 4]\n",
    "TP = 0.0\n",
    "FP = 0.0\n",
    "TN = 0.0\n",
    "FN = 0.0\n",
    "for i in range(len(ground_truth)):\n",
    "    for j in range(i + 1, len(ground_truth)):\n",
    "        g = ground_truth[i]\n",
    "        l = output_label[j]\n",
    "        if output_label[i] == output_label[j]:\n",
    "            if ground_truth[i] == ground_truth[j]:\n",
    "                TP += 1\n",
    "            else:\n",
    "                FP += 1\n",
    "        else:\n",
    "            if ground_truth[i] == ground_truth[j]:\n",
    "                FN += 1\n",
    "            else:\n",
    "                TN += 1\n",
    "precision = TP / (TP + FP)\n",
    "print(precision) "
   ]
  },
  {
   "cell_type": "markdown",
   "metadata": {},
   "source": [
    "So the precision is 0.78."
   ]
  },
  {
   "cell_type": "markdown",
   "metadata": {},
   "source": [
    "answer 3"
   ]
  },
  {
   "cell_type": "markdown",
   "metadata": {},
   "source": [
    "Recall is $\\frac {TP} {TP + FN}$. Using the previous code, we have:"
   ]
  },
  {
   "cell_type": "code",
   "execution_count": 5,
   "metadata": {},
   "outputs": [
    {
     "name": "stdout",
     "output_type": "stream",
     "text": [
      "0.8\n"
     ]
    }
   ],
   "source": [
    "recall = TP / (TP + FN)\n",
    "print(recall)"
   ]
  },
  {
   "cell_type": "markdown",
   "metadata": {},
   "source": [
    "So the recall is 0.8."
   ]
  },
  {
   "cell_type": "markdown",
   "metadata": {},
   "source": [
    "answer 4"
   ]
  },
  {
   "cell_type": "markdown",
   "metadata": {},
   "source": [
    "F1-score is $\\frac {2 * Precision * Recall} {Precision + Recall}$. Using the previous code, we have:"
   ]
  },
  {
   "cell_type": "code",
   "execution_count": 6,
   "metadata": {},
   "outputs": [
    {
     "name": "stdout",
     "output_type": "stream",
     "text": [
      "0.7901234567901235\n"
     ]
    }
   ],
   "source": [
    "print(2 * precision * recall / (precision + recall))"
   ]
  },
  {
   "cell_type": "markdown",
   "metadata": {},
   "source": [
    "So the F-1 score is 0.79."
   ]
  },
  {
   "cell_type": "markdown",
   "metadata": {},
   "source": [
    "answer 5"
   ]
  },
  {
   "cell_type": "markdown",
   "metadata": {},
   "source": [
    "We use coding to generate normalized mutual information:"
   ]
  },
  {
   "cell_type": "code",
   "execution_count": 13,
   "metadata": {},
   "outputs": [
    {
     "name": "stdout",
     "output_type": "stream",
     "text": [
      "0.8152212305376372\n"
     ]
    }
   ],
   "source": [
    "from collections import Counter\n",
    "import math\n",
    "\n",
    "N = 20.0\n",
    "dic_output = Counter(output_label)\n",
    "dic_truth = Counter(ground_truth)\n",
    "H_O = 0.0\n",
    "H_T = 0.0\n",
    "for i in range(1, 5):\n",
    "    H_O -= dic_output[i] / N * math.log(dic_output[i] / N, 2)\n",
    "    H_T -= dic_truth[i] / N * math.log(dic_truth[i] / N, 2)\n",
    "I = 0.0\n",
    "I += 5 / N * math.log(N * 5 / (dic_output[1] * dic_truth[2]), 2)\n",
    "I += 5 / N * math.log(N * 5 / (dic_output[2] * dic_truth[3]), 2) + 1 / N * math.log(N * 1 / (dic_output[2] * dic_truth[1]), 2)\n",
    "I += 4 / N * math.log(N * 4 / (dic_output[3] * dic_truth[1]), 2) + 1 / N * math.log(N * 1 / (dic_output[3] * dic_truth[4]), 2)\n",
    "I += 4 / N * math.log(N * 4 / (dic_output[4] * dic_truth[4]), 2)\n",
    "print(I / (H_O * H_T) ** (1 / 2))"
   ]
  },
  {
   "cell_type": "markdown",
   "metadata": {},
   "source": [
    "So the NMI is 0.8152."
   ]
  },
  {
   "cell_type": "markdown",
   "metadata": {},
   "source": [
    "## 2. K-means"
   ]
  },
  {
   "cell_type": "markdown",
   "metadata": {},
   "source": [
    "In this section, we are going to apply K-means algorithm against two datasets (dataset1.txt, dataset2.txt) with different distributions, respectively. \n",
    "\n",
    "\n",
    "For each dataset, it contains 3 columns, with the format: x1 \\t x2 \\t cluster_label. You need to use the first two columns for clustering, and the last column for evaluation.\n"
   ]
  },
  {
   "cell_type": "code",
   "execution_count": 14,
   "metadata": {
    "scrolled": true
   },
   "outputs": [
    {
     "name": "stdout",
     "output_type": "stream",
     "text": [
      "\n",
      "For dataset1: number of datapoints is 150\n",
      "          x         y  ground_truth_cluster\n",
      "0 -0.163880 -0.219869                     1\n",
      "1 -0.886274 -0.356186                     1\n",
      "2 -0.978910 -0.893314                     1\n",
      "3 -0.658867 -0.371122                     1\n",
      "4 -0.072518  0.399157                     1\n",
      "\n",
      "For dataset2: number of datapoints is 200\n",
      "          x         y  ground_truth_cluster\n",
      "0  1.068587  0.136921                     1\n",
      "1  0.705440  0.393068                     1\n",
      "2  0.840811 -0.054906                     1\n",
      "3 -0.923447  0.598501                     1\n",
      "4  0.784353  0.724743                     1\n"
     ]
    }
   ],
   "source": [
    "from hw4code.KMeans import KMeans\n",
    "k = KMeans()\n",
    "# As a sanity check, we print out a sample of each dataset\n",
    "dataname1 = \"data/dataset1.txt\"\n",
    "dataname2 = \"data/dataset2.txt\"\n",
    "k.check_dataloader(dataname1)\n",
    "k.check_dataloader(dataname2)"
   ]
  },
  {
   "cell_type": "markdown",
   "metadata": {},
   "source": [
    "### 2.1 Coding K-means"
   ]
  },
  {
   "cell_type": "markdown",
   "metadata": {},
   "source": [
    "Complete the `reassignClusters` and `getCentroid` function in `KMeans.py`. \n",
    "\n",
    "Print out each output cluster's size and centroid（x,y) for dataset1 and dataset2 respectively."
   ]
  },
  {
   "cell_type": "code",
   "execution_count": 17,
   "metadata": {},
   "outputs": [
    {
     "name": "stdout",
     "output_type": "stream",
     "text": [
      "\n",
      "For dataset1\n",
      "Iteration :4\n",
      "Cluster 0 size :50\n",
      "Centroid [x=2.5737264423871213, y=-0.027462568841232993]\n",
      "Cluster 1 size :50\n",
      "Centroid [x=-0.4633368646347212, y=-0.46611409698195794]\n",
      "Cluster 2 size :50\n",
      "Centroid [x=0.9888766205736857, y=2.010478965197201]\n",
      "\n",
      "For dataset2\n",
      "Iteration :3\n",
      "Cluster 0 size :102\n",
      "Centroid [x=1.2708406269481844, y=-0.08583389704900128]\n",
      "Cluster 1 size :98\n",
      "Centroid [x=-0.2018593506236788, y=0.5726963240559535]\n"
     ]
    }
   ],
   "source": [
    "k = KMeans()\n",
    "#========================#\n",
    "# STRART YOUR CODE HERE  #\n",
    "#========================#\n",
    "k.main(\"data/dataset1.txt\")\n",
    "k.main(\"data/dataset2.txt\")\n",
    "#========================#\n",
    "#   END YOUR CODE HERE   #\n",
    "#========================# "
   ]
  },
  {
   "cell_type": "markdown",
   "metadata": {},
   "source": [
    "### 2.2 Purity and NMI Evaluation"
   ]
  },
  {
   "cell_type": "markdown",
   "metadata": {},
   "source": [
    "Complete the `compute_purity` function in `KMeans.py`. \n",
    "\n",
    "In order to compute NMI, you need to firstly compute NMI matrix and then do the calculation. That is to complete the `getNMIMatrix` and `calcNMI` functions in `KMeans.py`.\n",
    "\n",
    "Print out the purity and NMI for each dataset respectively."
   ]
  },
  {
   "cell_type": "code",
   "execution_count": 24,
   "metadata": {},
   "outputs": [
    {
     "name": "stdout",
     "output_type": "stream",
     "text": [
      "\n",
      "For dataset1\n",
      "Iteration :4\n",
      "Purity is 1.000000\n",
      "NMI is 1.000000\n",
      "Cluster 0 size :50\n",
      "Centroid [x=2.5737264423871213, y=-0.027462568841232993]\n",
      "Cluster 1 size :50\n",
      "Centroid [x=-0.4633368646347212, y=-0.46611409698195794]\n",
      "Cluster 2 size :50\n",
      "Centroid [x=0.9888766205736857, y=2.010478965197201]\n",
      "\n",
      "For dataset2\n",
      "Iteration :3\n",
      "Purity is 0.760000\n",
      "NMI is 0.205096\n",
      "Cluster 0 size :102\n",
      "Centroid [x=1.2708406269481844, y=-0.08583389704900128]\n",
      "Cluster 1 size :98\n",
      "Centroid [x=-0.2018593506236788, y=0.5726963240559535]\n"
     ]
    }
   ],
   "source": [
    "k = KMeans()\n",
    "#========================#\n",
    "# STRART YOUR CODE HERE  #\n",
    "#========================#\n",
    "k.main(\"data/dataset1.txt\", isevaluate=True)\n",
    "k.main(\"data/dataset2.txt\", isevaluate=True)\n",
    "#========================#\n",
    "#   END YOUR CODE HERE   #\n",
    "#========================# "
   ]
  },
  {
   "cell_type": "markdown",
   "metadata": {},
   "source": [
    "### 2.3 Visualization"
   ]
  },
  {
   "cell_type": "markdown",
   "metadata": {},
   "source": [
    "The clustering results for KMeans are saved as `KMeans_dataset1.csv` and `KMeans_dataset2.csv` respectively under your root folder. Plot the clustering results for the two datasets, with different colors representing different clusters."
   ]
  },
  {
   "cell_type": "code",
   "execution_count": 41,
   "metadata": {},
   "outputs": [
    {
     "data": {
      "image/png": "[encoded data removed]",
      "text/plain": [
       "<Figure size 1080x432 with 2 Axes>"
      ]
     },
     "metadata": {
      "needs_background": "light"
     },
     "output_type": "display_data"
    }
   ],
   "source": [
    "CSV_FILE_PATH1 = 'Kmeans_dataset1.csv'\n",
    "CSV_FILE_PATH2 = 'Kmeans_dataset2.csv'\n",
    "\n",
    "df1 = pd.read_csv(CSV_FILE_PATH1,header=None,names=['x','y','pred'])\n",
    "df2 = pd.read_csv(CSV_FILE_PATH2,header=None,names=['x','y','pred'])\n",
    "fig, [ax0,ax1] = plt.subplots(1, 2, figsize=(15, 6))\n",
    "ax0.title.set_text(\"KMeans_Dataset1\")\n",
    "ax1.title.set_text(\"KMeans_Dataset2\")\n",
    "\n",
    "#========================#\n",
    "# STRART YOUR CODE HERE  #\n",
    "#========================#\n",
    "def create_plot(df, ax):\n",
    "    df_0 = df.loc[df.iloc[:, 2]==0]\n",
    "    df_1 = df.loc[df.iloc[:, 2]==1]\n",
    "    df_2 = df.loc[df.iloc[:, 2]==2]\n",
    "    df_3 = df.loc[df.iloc[:, 2]==3]\n",
    "    ax.scatter(df_0.iloc[:, 0], df_0.iloc[:, 1])\n",
    "    ax.scatter(df_1.iloc[:, 0], df_1.iloc[:, 1])\n",
    "    ax.scatter(df_2.iloc[:, 0], df_2.iloc[:, 1])\n",
    "    ax.scatter(df_3.iloc[:, 0], df_3.iloc[:, 1])\n",
    "\n",
    "create_plot(df1, ax0)\n",
    "create_plot(df2, ax1)\n",
    "\n",
    "#========================#\n",
    "#   END YOUR CODE HERE   #\n",
    "#========================# \n",
    "plt.show()\n",
    "    "
   ]
  },
  {
   "cell_type": "markdown",
   "metadata": {},
   "source": [
    "**Question** \n"
   ]
  },
  {
   "cell_type": "markdown",
   "metadata": {},
   "source": [
    "Give the pros and cons of K-means algorithm. (At least one for pro and two for cons to get full marks)\n"
   ]
  },
  {
   "cell_type": "markdown",
   "metadata": {},
   "source": [
    "**Your answer here**\n"
   ]
  },
  {
   "cell_type": "markdown",
   "metadata": {},
   "source": [
    "<span style=\"color:blue\"> Please type your answer here! </span>"
   ]
  },
  {
   "cell_type": "markdown",
   "metadata": {},
   "source": [
    "Pros:"
   ]
  },
  {
   "cell_type": "markdown",
   "metadata": {},
   "source": [
    "This algorithm is very efficient, and its complexity is linear in n (number of datapoints). Specifically, it has O(ktn), where k is number of clusters and t is the number of iterations, and k, t << n."
   ]
  },
  {
   "cell_type": "markdown",
   "metadata": {},
   "source": [
    "Cons:"
   ]
  },
  {
   "cell_type": "markdown",
   "metadata": {},
   "source": [
    "1.\n",
    "This algorithm is not suitable to discover clusters with non-convex shape; for example, in dataset2, k-Means cannot efficiently classify the two curved clusters.\n",
    "\n",
    "2.\n",
    "Since we use the mean as center, this algorithm is sensitive to outliers and noisy data. \n",
    "\n",
    "3.\n",
    "The algorithm requires us to set k (number of clusters) at first."
   ]
  },
  {
   "cell_type": "markdown",
   "metadata": {},
   "source": [
    "## 3 DBSCAN"
   ]
  },
  {
   "cell_type": "markdown",
   "metadata": {},
   "source": [
    "In this section, we are going to use DBSCAN for clustering the same two datasets. \n",
    "\n"
   ]
  },
  {
   "cell_type": "markdown",
   "metadata": {},
   "source": [
    "### 3.1 Coding DBSCAN"
   ]
  },
  {
   "cell_type": "markdown",
   "metadata": {},
   "source": [
    "Complete the `dbscan` function in `DBSCAN.py`. Print out the purity, NMI and cluter size for each dataset respectively."
   ]
  },
  {
   "cell_type": "code",
   "execution_count": 39,
   "metadata": {
    "scrolled": true
   },
   "outputs": [
    {
     "name": "stdout",
     "output_type": "stream",
     "text": [
      "\n",
      "For dataset1\n",
      "Esp :0.3560832705047313\n",
      "Number of clusters formed :4\n",
      "Noise points :11\n",
      "Purity is 0.940000\n",
      "NMI is 0.959065\n",
      "Cluster 0 size :49\n",
      "Cluster 1 size :41\n",
      "Cluster 2 size :47\n",
      "Cluster 3 size :4\n",
      "\n",
      "For dataset2\n",
      "Esp :0.18652096476712493\n",
      "Number of clusters formed :3\n",
      "Noise points :3\n",
      "Purity is 0.985000\n",
      "NMI is 0.817349\n",
      "Cluster 0 size :99\n",
      "Cluster 1 size :51\n",
      "Cluster 2 size :47\n"
     ]
    }
   ],
   "source": [
    "from hw4code.DBSCAN import DBSCAN\n",
    "d = DBSCAN()\n",
    "#========================#\n",
    "# STRART YOUR CODE HERE  #\n",
    "#========================#\n",
    "d.main(\"data/dataset1.txt\")\n",
    "d.main(\"data/dataset2.txt\")\n",
    "#========================#\n",
    "#   END YOUR CODE HERE   #\n",
    "#========================# "
   ]
  },
  {
   "cell_type": "markdown",
   "metadata": {},
   "source": [
    "### 3.2 Visualization"
   ]
  },
  {
   "cell_type": "markdown",
   "metadata": {},
   "source": [
    "The clustering results for DBSCAN are saved as `DBSCAN_dataset1.csv` and `DBSCAN_dataset2.csv` respectively under your root folder. Plot the clustering results for the two datasets, with different colors representing different clusters."
   ]
  },
  {
   "cell_type": "code",
   "execution_count": 42,
   "metadata": {},
   "outputs": [
    {
     "data": {
      "image/png": "[encoded data removed]",
      "text/plain": [
       "<Figure size 1080x432 with 2 Axes>"
      ]
     },
     "metadata": {
      "needs_background": "light"
     },
     "output_type": "display_data"
    }
   ],
   "source": [
    "CSV_FILE_PATH1 = 'DBSCAN_dataset1.csv'\n",
    "CSV_FILE_PATH2 = 'DBSCAN_dataset2.csv'\n",
    "\n",
    "df1 = pd.read_csv(CSV_FILE_PATH1,header=None,names=['x','y','pred'])\n",
    "df2 = pd.read_csv(CSV_FILE_PATH2,header=None,names=['x','y','pred'])\n",
    "fig, [ax0,ax1] = plt.subplots(1, 2, figsize=(15, 6))\n",
    "ax0.title.set_text(\"DBSCAN_Dataset1\")\n",
    "ax1.title.set_text(\"DBSCAN_Dataset2\")\n",
    "\n",
    "#========================#\n",
    "# STRART YOUR CODE HERE  #\n",
    "#========================#\n",
    "create_plot(df1, ax0)\n",
    "create_plot(df2, ax1)\n",
    "#========================#\n",
    "#   END YOUR CODE HERE   #\n",
    "#========================# \n",
    "plt.show()\n",
    "    \n",
    "    \n",
    "    "
   ]
  },
  {
   "cell_type": "markdown",
   "metadata": {},
   "source": [
    "**Question** \n"
   ]
  },
  {
   "cell_type": "markdown",
   "metadata": {},
   "source": [
    "Give the pros and cons of DBSCAN algorithm. (At least two for pro and one for cons to get full marks)\n"
   ]
  },
  {
   "cell_type": "markdown",
   "metadata": {},
   "source": [
    "**Your answer here**\n"
   ]
  },
  {
   "cell_type": "markdown",
   "metadata": {},
   "source": [
    "<span style=\"color:blue\"> Please type your answer here! </span>"
   ]
  },
  {
   "cell_type": "markdown",
   "metadata": {},
   "source": [
    "Pros:"
   ]
  },
  {
   "cell_type": "markdown",
   "metadata": {},
   "source": [
    "1.\n",
    "It can efficiently detect and identify the noise/outliers in data, so the algorithm is robust to noises.\n",
    "\n",
    "2.\n",
    "It can discover non-convex or even arbitrary shape in clusters, as displayed in the classification result of dataset2."
   ]
  },
  {
   "cell_type": "markdown",
   "metadata": {},
   "source": [
    "Cons:"
   ]
  },
  {
   "cell_type": "markdown",
   "metadata": {},
   "source": [
    "This algorithm fails if clusters have varying density, since we have to set the minPoints as a hyperparameter before the algorithm starts."
   ]
  },
  {
   "cell_type": "markdown",
   "metadata": {},
   "source": [
    "## 4 GMM"
   ]
  },
  {
   "cell_type": "markdown",
   "metadata": {},
   "source": [
    "In this section, we are going to use GMM for clustering the same two datasets. \n",
    "\n"
   ]
  },
  {
   "cell_type": "markdown",
   "metadata": {},
   "source": [
    "### 4.1 Coding GMM"
   ]
  },
  {
   "cell_type": "markdown",
   "metadata": {},
   "source": [
    "Complete the `Estep` and 'Mstep' function in `GMM.py`. Print out the purity, NMI, final mean, covariance and cluter size for each dataset respectively."
   ]
  },
  {
   "cell_type": "code",
   "execution_count": 47,
   "metadata": {
    "scrolled": true
   },
   "outputs": [
    {
     "name": "stdout",
     "output_type": "stream",
     "text": [
      "\n",
      "For dataset1\n",
      "Number of Iterations = 22\n",
      "\n",
      "After Calculations\n",
      "Final mean = \n",
      "-0.46247285694404044 \n",
      "-0.4638749980764899 \n",
      "\n",
      "0.9898929396029765 \n",
      "2.011802723814242 \n",
      "\n",
      "2.57342634413319 \n",
      "-0.027108746076609493 \n",
      "\n",
      "\n",
      "Final covariance = \n",
      "For Cluster : 1\n",
      "0.14918910487220216 \n",
      "0.1173463005433889 \n",
      "\n",
      "0.1173463005433889 \n",
      "0.21554861253107502 \n",
      "\n",
      "\n",
      "For Cluster : 2\n",
      "0.16028233507625483 \n",
      "0.07486967581052754 \n",
      "\n",
      "0.07486967581052754 \n",
      "0.13939774162738802 \n",
      "\n",
      "\n",
      "For Cluster : 3\n",
      "0.18039223672749394 \n",
      "-0.04672614559811056 \n",
      "\n",
      "-0.04672614559811056 \n",
      "0.15206459963738583 \n",
      "\n",
      "\n",
      "Purity is 1.000000\n",
      "NMI is 1.000000\n",
      "Cluster 0 size :50\n",
      "Cluster 1 size :50\n",
      "Cluster 2 size :50\n",
      "\n",
      "For dataset2\n",
      "Number of Iterations = 95\n",
      "\n",
      "After Calculations\n",
      "Final mean = \n",
      "0.7464905663922623 \n",
      "0.4564966584854107 \n",
      "\n",
      "0.28287851889390975 \n",
      "-0.05970560727188754 \n",
      "\n",
      "\n",
      "Final covariance = \n",
      "For Cluster : 1\n",
      "0.769279076535834 \n",
      "-0.28782809642382134 \n",
      "\n",
      "-0.28782809642382134 \n",
      "0.1901249384356509 \n",
      "\n",
      "\n",
      "For Cluster : 2\n",
      "0.6828574757628691 \n",
      "-0.300589159943905 \n",
      "\n",
      "-0.300589159943905 \n",
      "0.17583559485120043 \n",
      "\n",
      "\n",
      "Purity is 0.690000\n",
      "NMI is 0.107406\n",
      "Cluster 0 size :106\n",
      "Cluster 1 size :94\n"
     ]
    }
   ],
   "source": [
    "from hw4code.GMM import GMM\n",
    "g = GMM()\n",
    "#========================#\n",
    "# STRART YOUR CODE HERE  #\n",
    "#========================#\n",
    "g.main(\"data/dataset1.txt\")\n",
    "g.main(\"data/dataset2.txt\")\n",
    "#========================#\n",
    "#   END YOUR CODE HERE   #\n",
    "#========================# "
   ]
  },
  {
   "cell_type": "markdown",
   "metadata": {},
   "source": [
    "### 4.2 Visualization"
   ]
  },
  {
   "cell_type": "markdown",
   "metadata": {},
   "source": [
    "The clustering results for GMM are saved as `GMM_dataset1.csv` and `GMM_dataset2.csv` respectively under your root folder. Plot the clustering results for the two datasets, with different colors representing different clusters."
   ]
  },
  {
   "cell_type": "code",
   "execution_count": 48,
   "metadata": {},
   "outputs": [
    {
     "data": {
      "image/png": "[encoded data removed]",
      "text/plain": [
       "<Figure size 1080x432 with 2 Axes>"
      ]
     },
     "metadata": {
      "needs_background": "light"
     },
     "output_type": "display_data"
    }
   ],
   "source": [
    "CSV_FILE_PATH1 = 'GMM_dataset1.csv'\n",
    "CSV_FILE_PATH2 = 'GMM_dataset2.csv'\n",
    "\n",
    "df1 = pd.read_csv(CSV_FILE_PATH1,header=None,names=['x','y','pred'])\n",
    "df2 = pd.read_csv(CSV_FILE_PATH2,header=None,names=['x','y','pred'])\n",
    "fig, [ax0,ax1] = plt.subplots(1, 2, figsize=(15, 6))\n",
    "ax0.title.set_text(\"GMM_Dataset1\")\n",
    "ax1.title.set_text(\"GMM_Dataset2\")\n",
    "\n",
    "#========================#\n",
    "# STRART YOUR CODE HERE  #\n",
    "#========================#\n",
    "create_plot(df1, ax0)\n",
    "create_plot(df2, ax1)\n",
    "#========================#\n",
    "#   END YOUR CODE HERE   #\n",
    "#========================# \n",
    "plt.show()\n",
    "    \n",
    "    \n",
    "    "
   ]
  },
  {
   "cell_type": "markdown",
   "metadata": {},
   "source": [
    "\n",
    "**Questions**\n",
    "\n"
   ]
  },
  {
   "cell_type": "markdown",
   "metadata": {},
   "source": [
    "1. Give the pros and cons of GMM algorithm. (At least two for pro and two for cons to get full marks)\n",
    "2. Compare the visualization results from three algorithms, analyze for each dataset why these algorithms would produce such result."
   ]
  },
  {
   "cell_type": "markdown",
   "metadata": {},
   "source": [
    "**Your answer here:**\n"
   ]
  },
  {
   "cell_type": "markdown",
   "metadata": {},
   "source": [
    "<span style=\"color:blue\"> Please type your answer here! </span>"
   ]
  },
  {
   "cell_type": "markdown",
   "metadata": {},
   "source": [
    "Pros of GMM:"
   ]
  },
  {
   "cell_type": "markdown",
   "metadata": {},
   "source": [
    "1.\n",
    "GMM can efficiently classify clusters with different sizes and density\n",
    "\n",
    "2.\n",
    "GMM do not require us the set k (number of clusters) before the algorithm starts.\n",
    "\n",
    "3.\n",
    "GMM is a generative model; that is to say, we can generate any new datapoint given its cluster distribution."
   ]
  },
  {
   "cell_type": "markdown",
   "metadata": {},
   "source": [
    "Cons of GMM:"
   ]
  },
  {
   "cell_type": "markdown",
   "metadata": {},
   "source": [
    "1.\n",
    "It is not suitable for clusters with non-convex shape, such as dataset2.\n",
    "\n",
    "2.\n",
    "It has high computational cost if the dimensions of datapoints and the number of datapoints are high."
   ]
  },
  {
   "cell_type": "markdown",
   "metadata": {},
   "source": [
    "Reasoning over dataset1:"
   ]
  },
  {
   "cell_type": "markdown",
   "metadata": {},
   "source": [
    "We can see that both k-Means and GMM have the perfect purity and NMI classification result. For k-Means, we set the correct k (i.e. number of clusters) initially; for GMM, we run the algorithm long-enough for it to converge. Under such conditions, both algorithms can successfully detect the convex shaped cluster in dataset1.\n",
    "\n",
    "However, for DBSCAN, it only has a purity of 0.94 and NMI of 0.959. This is because that for the left-most cluster, it is more sparsely distributed comparing to others. DBSCAN is less efficient when classifying clusters with different density, so it classifies points at the margin of the left-most cluster as outliers, and thus results in a lower purity."
   ]
  },
  {
   "cell_type": "markdown",
   "metadata": {},
   "source": [
    "Reasoning over dataset2:"
   ]
  },
  {
   "cell_type": "markdown",
   "metadata": {},
   "source": [
    "This dataset has a non-convex shape. As indicated previously, k-Means and GMM are not suitable for non-convex cluster classification. As a result, k-Means has a purity of 0.76 and NMI of 0.205; GMM only has a purity of 0.69 and NMI of 0.1074.\n",
    "\n",
    "On the contrary, DBSCAN can efficiently detect clusters with non-convex shape. So in this case, it has purity of 0.985 and NMI of 0.817. Moreover, different from dataset1, these two non-convex clusters has similar densities, so DBSCAN only classifies 3 marginal points as outliers and has higher accuracy."
   ]
  },
  {
   "cell_type": "markdown",
   "metadata": {},
   "source": [
    "## 5 Bonus Question"
   ]
  },
  {
   "cell_type": "markdown",
   "metadata": {},
   "source": [
    "Prove that KMeans algorithm would guarantee covergence. (**Hint: prove for each step the loss would descrease.**)"
   ]
  },
  {
   "cell_type": "markdown",
   "metadata": {},
   "source": [
    "<span style=\"color:blue\"> Please type your answer here! </span>"
   ]
  },
  {
   "cell_type": "markdown",
   "metadata": {},
   "source": [
    "# End of Homework 4 :)\n",
    "After you've finished the homework, please print out the entire `ipynb` notebook and four `py` files into one PDF file. Make sure you include the output of code cells and answers for questions. Prepare submit it to GradeScope. Also this time remember assign the pages to the questions on GradeScope"
   ]
  }
 ],
 "metadata": {
  "kernelspec": {
   "display_name": "Python 3",
   "language": "python",
   "name": "python3"
  },
  "language_info": {
   "codemirror_mode": {
    "name": "ipython",
    "version": 3
   },
   "file_extension": ".py",
   "mimetype": "text/x-python",
   "name": "python",
   "nbconvert_exporter": "python",
   "pygments_lexer": "ipython3",
   "version": "3.7.9"
  }
 },
 "nbformat": 4,
 "nbformat_minor": 4
}
