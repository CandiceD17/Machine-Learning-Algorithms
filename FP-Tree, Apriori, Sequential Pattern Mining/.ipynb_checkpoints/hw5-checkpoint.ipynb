{
 "cells": [
  {
   "cell_type": "markdown",
   "metadata": {},
   "source": [
    "# CS145 Howework 5\n",
    "\n",
    "\n",
    "<span style=\"color:red\"> **Important Note:** </span>\n",
    "HW4 is due on **11:59 PM PT, Dec 4 (Friday, Week 9)**. Please submit through GradeScope. \n",
    "\n",
    "## Print Out Your Name and UID\n",
    "\n",
    "<span style=\"color:blue\"> **Name: Rui Deng, UID: 205123245** </span>\n",
    "\n",
    "## Before You Start\n",
    "\n",
    "You need to first create HW5 conda environment by the given `cs145hw5.yml` file, which provides the name and necessary packages for this tasks. If you have `conda` properly installed, you may create, activate or deactivate by the following commands:\n",
    "\n",
    "```\n",
    "conda env create -f cs145hw5.yml\n",
    "conda activate hw4\n",
    "conda deactivate\n",
    "```\n",
    "OR \n",
    "\n",
    "```\n",
    "conda env create --name NAMEOFYOURCHOICE -f cs145hw5.yml \n",
    "conda activate NAMEOFYOURCHOICE\n",
    "conda deactivate\n",
    "```\n",
    "To view the list of your environments, use the following command:\n",
    "```\n",
    "conda env list\n",
    "```\n",
    "\n",
    "More useful information about managing environments can be found [here](https://docs.conda.io/projects/conda/en/latest/user-guide/tasks/manage-environments.html).\n",
    "\n",
    "You may also quickly review the usage of basic Python and Numpy package, if needed in coding for matrix operations.\n",
    "\n",
    "In this notebook, you must not delete any code cells in this notebook. If you change any code outside the blocks (such as some important hyperparameters) that you are allowed to edit (between STRART/END YOUR CODE HERE), you need to highlight these changes. You may add some additional cells to help explain your results and observations."
   ]
  },
  {
   "cell_type": "code",
   "execution_count": 1,
   "metadata": {},
   "outputs": [],
   "source": [
    "import numpy as np \n",
    "import pandas as pd\n",
    "import sys \n",
    "import random\n",
    "import math\n",
    "import matplotlib.pyplot as plt\n",
    "from graphviz import Digraph\n",
    "from IPython.display import Image\n",
    "from scipy.stats import multivariate_normal\n",
    "%load_ext autoreload\n",
    "%autoreload 2"
   ]
  },
  {
   "cell_type": "markdown",
   "metadata": {},
   "source": [
    "If you can successfully run the code above, there will be no problem for environment setting."
   ]
  },
  {
   "cell_type": "markdown",
   "metadata": {},
   "source": [
    "## 1. Frequent Pattern Mining for Set Data (25 pts)\n"
   ]
  },
  {
   "cell_type": "markdown",
   "metadata": {},
   "source": [
    "##### Table 1\n",
    "| TID | Items | \n",
    "| --- | --- | \n",
    "| 1 | b,c,j | \n",
    "| 2 | a,b,d |\n",
    "| 3 | a,c |\n",
    "| 4 | b,d | \n",
    "| 5 | a,b,c,e | \n",
    "| 6 | b,c,k| \n",
    "| 7 | a,c |\n",
    "| 8 | a,b,e,i | \n",
    "| 9 | b,d | \n",
    "| 10 | a,b,c,d |"
   ]
  },
  {
   "cell_type": "markdown",
   "metadata": {},
   "source": [
    "\n",
    "\n",
    "\n",
    "Given a transaction database shown in Table 1, answer the following questions. Let the parameter `min_support` be 2. "
   ]
  },
  {
   "cell_type": "markdown",
   "metadata": {},
   "source": [
    "\n",
    "**Questions**\n",
    "\n",
    "### 1.1 Apriori Algorothm (16 pts) . \n",
    "<span style=\"color:red\"> Note: This is a \"question-answer\" style problem. You do not need to code anything and you are required to calculate by hand (with a scientific calculator). </span>\n",
    "Find all the frequent patterns using Apriori Algorithm. <br>\n",
    "a. $C_1$ <br>\n",
    "b. $L_1$<br>\n",
    "c. $C_2$<br>\n",
    "d. $L_2$<br>\n",
    "e. $C_3$<br>\n",
    "f. $L_3$<br>\n",
    "g. $C_4$ <br>\n",
    "h. $L_4$ "
   ]
  },
  {
   "cell_type": "markdown",
   "metadata": {},
   "source": [
    "<span style=\"color:blue\"> Please type your answer here! </span>\n",
    "\n",
    "a. $C_1$ = {a, b, c, d, e, i, j, k}\n",
    "\n",
    "b. $L_1$ = {a, b, c, d, e}. We scan the database and find out i, j, k only have support = 1 < min_support, while others all have support >= 2."
   ]
  },
  {
   "cell_type": "markdown",
   "metadata": {},
   "source": [
    "c. $C_2$ = {ab, ac, ad, ae, bc, bd, be, cd, ce, de}\n",
    "\n",
    "d. $L_2$ = {ab, ac, ad, ae, bc, bd, be}. We scan the database and find out cd and ce only have support = 1 < min_support, and de has support = 0 < min_support; while others all have support >= 2."
   ]
  },
  {
   "cell_type": "markdown",
   "metadata": {},
   "source": [
    "e. After Self joining: $C_3'$ = {abc, abd, abe, acd, ace, ade, bcd, bce, bde}\n",
    "\n",
    "After Pruning: $C_3$ = {abc, abd, abe, acd, ace}. Here, {ade, bcd, bce, bde} can be safely pruned because de, cd, ce are not in $L_2$.\n",
    "\n",
    "f. $L_3$ = {abc, abd, abe}. We scan the database and find out acd and ace only have support = 1 < min_support; while others all have support >= 2."
   ]
  },
  {
   "cell_type": "markdown",
   "metadata": {},
   "source": [
    "g. After Self joining: $C_4'$ = {abcd, abce, abde}\n",
    "\n",
    "After Pruning: $C_4$ = {}. Here, {abcd, abce, abde} can be safely pruned because acd, ace, ade are not in $L_3$.\n",
    "\n",
    "h. $L_4$ = {}"
   ]
  },
  {
   "cell_type": "markdown",
   "metadata": {},
   "source": [
    "So the frequent patterns are {a, b, c, d, e, ab, ac, ad, ae, bc, bd, be, abc, abd, abe}."
   ]
  },
  {
   "cell_type": "markdown",
   "metadata": {},
   "source": [
    "### 1.2 FP-tree (9 pts)\n",
    "(a)Construct the FP-tree of the table.  \n",
    "(b) For the item d, show its conditional pattern base (projected database) and conditional FP-tree <br> \n",
    "You may use Package `graphviz` to generate graph (https://graphviz.readthedocs.io/en/stable/manual.html) (Bonus point: 5pts) or draw by hand. "
   ]
  },
  {
   "cell_type": "markdown",
   "metadata": {},
   "source": [
    "(c) Find frequent patterns based on d's conditional FP-tree <br>\n",
    "\n"
   ]
  },
  {
   "cell_type": "markdown",
   "metadata": {},
   "source": [
    "<span style=\"color:blue\"> Please type your answer here! </span>\n"
   ]
  },
  {
   "cell_type": "markdown",
   "metadata": {},
   "source": [
    "(a)"
   ]
  },
  {
   "cell_type": "code",
   "execution_count": 28,
   "metadata": {},
   "outputs": [
    {
     "data": {
      "image/svg+xml": [
       "<?xml version=\"1.0\" encoding=\"UTF-8\" standalone=\"no\"?>\n",
       "<!DOCTYPE svg PUBLIC \"-//W3C//DTD SVG 1.1//EN\"\n",
       " \"http://www.w3.org/Graphics/SVG/1.1/DTD/svg11.dtd\">\n",
       "<!-- Generated by graphviz version 2.40.1 (20161225.0304)\n",
       " -->\n",
       "<!-- Title: %3 Pages: 1 -->\n",
       "<svg width=\"386pt\" height=\"332pt\"\n",
       " viewBox=\"0.00 0.00 386.00 332.00\" xmlns=\"http://www.w3.org/2000/svg\" xmlns:xlink=\"http://www.w3.org/1999/xlink\">\n",
       "<g id=\"graph0\" class=\"graph\" transform=\"scale(1 1) rotate(0) translate(4 328)\">\n",
       "<title>%3</title>\n",
       "<polygon fill=\"#ffffff\" stroke=\"transparent\" points=\"-4,4 -4,-328 382,-328 382,4 -4,4\"/>\n",
       "<!-- 1 -->\n",
       "<g id=\"node1\" class=\"node\">\n",
       "<title>1</title>\n",
       "<ellipse fill=\"none\" stroke=\"#000000\" cx=\"279\" cy=\"-306\" rx=\"27\" ry=\"18\"/>\n",
       "<text text-anchor=\"middle\" x=\"279\" y=\"-301.8\" font-family=\"Times,serif\" font-size=\"14.00\" fill=\"#000000\">{}</text>\n",
       "</g>\n",
       "<!-- 2 -->\n",
       "<g id=\"node2\" class=\"node\">\n",
       "<title>2</title>\n",
       "<ellipse fill=\"none\" stroke=\"#000000\" cx=\"243\" cy=\"-234\" rx=\"27\" ry=\"18\"/>\n",
       "<text text-anchor=\"middle\" x=\"243\" y=\"-229.8\" font-family=\"Times,serif\" font-size=\"14.00\" fill=\"#000000\">b: 8</text>\n",
       "</g>\n",
       "<!-- 1&#45;&gt;2 -->\n",
       "<g id=\"edge1\" class=\"edge\">\n",
       "<title>1&#45;&gt;2</title>\n",
       "<path fill=\"none\" stroke=\"#000000\" d=\"M270.2854,-288.5708C266.0403,-280.0807 260.8464,-269.6929 256.1337,-260.2674\"/>\n",
       "<polygon fill=\"#000000\" stroke=\"#000000\" points=\"259.237,-258.6477 251.6343,-251.2687 252.976,-261.7782 259.237,-258.6477\"/>\n",
       "</g>\n",
       "<!-- 3 -->\n",
       "<g id=\"node3\" class=\"node\">\n",
       "<title>3</title>\n",
       "<ellipse fill=\"none\" stroke=\"#000000\" cx=\"333\" cy=\"-234\" rx=\"27\" ry=\"18\"/>\n",
       "<text text-anchor=\"middle\" x=\"333\" y=\"-229.8\" font-family=\"Times,serif\" font-size=\"14.00\" fill=\"#000000\">a: 2</text>\n",
       "</g>\n",
       "<!-- 1&#45;&gt;3 -->\n",
       "<g id=\"edge2\" class=\"edge\">\n",
       "<title>1&#45;&gt;3</title>\n",
       "<path fill=\"none\" stroke=\"#000000\" d=\"M291.2534,-289.6621C298.1577,-280.4564 306.9177,-268.7764 314.6285,-258.4953\"/>\n",
       "<polygon fill=\"#000000\" stroke=\"#000000\" points=\"317.595,-260.3733 320.7951,-250.2733 311.995,-256.1733 317.595,-260.3733\"/>\n",
       "</g>\n",
       "<!-- 4 -->\n",
       "<g id=\"node4\" class=\"node\">\n",
       "<title>4</title>\n",
       "<ellipse fill=\"none\" stroke=\"#000000\" cx=\"135\" cy=\"-162\" rx=\"27\" ry=\"18\"/>\n",
       "<text text-anchor=\"middle\" x=\"135\" y=\"-157.8\" font-family=\"Times,serif\" font-size=\"14.00\" fill=\"#000000\">a: 4</text>\n",
       "</g>\n",
       "<!-- 2&#45;&gt;4 -->\n",
       "<g id=\"edge4\" class=\"edge\">\n",
       "<title>2&#45;&gt;4</title>\n",
       "<path fill=\"none\" stroke=\"#000000\" d=\"M223.6918,-221.1278C206.6445,-209.763 181.5981,-193.0654 162.4656,-180.3104\"/>\n",
       "<polygon fill=\"#000000\" stroke=\"#000000\" points=\"164.4031,-177.3956 154.1411,-174.7607 160.5201,-183.2199 164.4031,-177.3956\"/>\n",
       "</g>\n",
       "<!-- 5 -->\n",
       "<g id=\"node5\" class=\"node\">\n",
       "<title>5</title>\n",
       "<ellipse fill=\"none\" stroke=\"#000000\" cx=\"207\" cy=\"-162\" rx=\"27\" ry=\"18\"/>\n",
       "<text text-anchor=\"middle\" x=\"207\" y=\"-157.8\" font-family=\"Times,serif\" font-size=\"14.00\" fill=\"#000000\">d: 2</text>\n",
       "</g>\n",
       "<!-- 2&#45;&gt;5 -->\n",
       "<g id=\"edge5\" class=\"edge\">\n",
       "<title>2&#45;&gt;5</title>\n",
       "<path fill=\"none\" stroke=\"#000000\" d=\"M234.2854,-216.5708C230.0403,-208.0807 224.8464,-197.6929 220.1337,-188.2674\"/>\n",
       "<polygon fill=\"#000000\" stroke=\"#000000\" points=\"223.237,-186.6477 215.6343,-179.2687 216.976,-189.7782 223.237,-186.6477\"/>\n",
       "</g>\n",
       "<!-- 6 -->\n",
       "<g id=\"node6\" class=\"node\">\n",
       "<title>6</title>\n",
       "<ellipse fill=\"none\" stroke=\"#000000\" cx=\"279\" cy=\"-162\" rx=\"27\" ry=\"18\"/>\n",
       "<text text-anchor=\"middle\" x=\"279\" y=\"-157.8\" font-family=\"Times,serif\" font-size=\"14.00\" fill=\"#000000\">c: 2</text>\n",
       "</g>\n",
       "<!-- 2&#45;&gt;6 -->\n",
       "<g id=\"edge6\" class=\"edge\">\n",
       "<title>2&#45;&gt;6</title>\n",
       "<path fill=\"none\" stroke=\"#000000\" d=\"M251.7146,-216.5708C255.9597,-208.0807 261.1536,-197.6929 265.8663,-188.2674\"/>\n",
       "<polygon fill=\"#000000\" stroke=\"#000000\" points=\"269.024,-189.7782 270.3657,-179.2687 262.763,-186.6477 269.024,-189.7782\"/>\n",
       "</g>\n",
       "<!-- 7 -->\n",
       "<g id=\"node7\" class=\"node\">\n",
       "<title>7</title>\n",
       "<ellipse fill=\"none\" stroke=\"#000000\" cx=\"351\" cy=\"-162\" rx=\"27\" ry=\"18\"/>\n",
       "<text text-anchor=\"middle\" x=\"351\" y=\"-157.8\" font-family=\"Times,serif\" font-size=\"14.00\" fill=\"#000000\">c: 2</text>\n",
       "</g>\n",
       "<!-- 3&#45;&gt;7 -->\n",
       "<g id=\"edge3\" class=\"edge\">\n",
       "<title>3&#45;&gt;7</title>\n",
       "<path fill=\"none\" stroke=\"#000000\" d=\"M337.4494,-216.2022C339.4398,-208.2406 341.8332,-198.6671 344.0511,-189.7957\"/>\n",
       "<polygon fill=\"#000000\" stroke=\"#000000\" points=\"347.5094,-190.3929 346.5394,-179.8425 340.7184,-188.6951 347.5094,-190.3929\"/>\n",
       "</g>\n",
       "<!-- 4&#45;&gt;3 -->\n",
       "<g id=\"edge12\" class=\"edge\">\n",
       "<title>4&#45;&gt;3</title>\n",
       "<path fill=\"none\" stroke=\"#000000\" stroke-dasharray=\"5,2\" d=\"M156.4711,-173.357C161.1992,-175.6823 166.2227,-178.0212 171,-180 171.1933,-180.0801 251.7839,-206.9372 299.2084,-222.7402\"/>\n",
       "<polygon fill=\"#000000\" stroke=\"#000000\" points=\"298.1903,-226.0901 308.784,-225.931 300.4033,-219.4491 298.1903,-226.0901\"/>\n",
       "</g>\n",
       "<!-- 8 -->\n",
       "<g id=\"node8\" class=\"node\">\n",
       "<title>8</title>\n",
       "<ellipse fill=\"none\" stroke=\"#000000\" cx=\"63\" cy=\"-90\" rx=\"27\" ry=\"18\"/>\n",
       "<text text-anchor=\"middle\" x=\"63\" y=\"-85.8\" font-family=\"Times,serif\" font-size=\"14.00\" fill=\"#000000\">c: 2</text>\n",
       "</g>\n",
       "<!-- 4&#45;&gt;8 -->\n",
       "<g id=\"edge7\" class=\"edge\">\n",
       "<title>4&#45;&gt;8</title>\n",
       "<path fill=\"none\" stroke=\"#000000\" d=\"M119.7307,-146.7307C109.803,-136.803 96.6847,-123.6847 85.5637,-112.5637\"/>\n",
       "<polygon fill=\"#000000\" stroke=\"#000000\" points=\"87.7933,-109.8436 78.2473,-105.2473 82.8436,-114.7933 87.7933,-109.8436\"/>\n",
       "</g>\n",
       "<!-- 9 -->\n",
       "<g id=\"node9\" class=\"node\">\n",
       "<title>9</title>\n",
       "<ellipse fill=\"none\" stroke=\"#000000\" cx=\"135\" cy=\"-90\" rx=\"27\" ry=\"18\"/>\n",
       "<text text-anchor=\"middle\" x=\"135\" y=\"-85.8\" font-family=\"Times,serif\" font-size=\"14.00\" fill=\"#000000\">d: 1</text>\n",
       "</g>\n",
       "<!-- 4&#45;&gt;9 -->\n",
       "<g id=\"edge8\" class=\"edge\">\n",
       "<title>4&#45;&gt;9</title>\n",
       "<path fill=\"none\" stroke=\"#000000\" d=\"M135,-143.8314C135,-136.131 135,-126.9743 135,-118.4166\"/>\n",
       "<polygon fill=\"#000000\" stroke=\"#000000\" points=\"138.5001,-118.4132 135,-108.4133 131.5001,-118.4133 138.5001,-118.4132\"/>\n",
       "</g>\n",
       "<!-- 10 -->\n",
       "<g id=\"node10\" class=\"node\">\n",
       "<title>10</title>\n",
       "<ellipse fill=\"none\" stroke=\"#000000\" cx=\"207\" cy=\"-90\" rx=\"27\" ry=\"18\"/>\n",
       "<text text-anchor=\"middle\" x=\"207\" y=\"-85.8\" font-family=\"Times,serif\" font-size=\"14.00\" fill=\"#000000\">e: 1</text>\n",
       "</g>\n",
       "<!-- 4&#45;&gt;10 -->\n",
       "<g id=\"edge9\" class=\"edge\">\n",
       "<title>4&#45;&gt;10</title>\n",
       "<path fill=\"none\" stroke=\"#000000\" d=\"M150.2693,-146.7307C160.197,-136.803 173.3153,-123.6847 184.4363,-112.5637\"/>\n",
       "<polygon fill=\"#000000\" stroke=\"#000000\" points=\"187.1564,-114.7933 191.7527,-105.2473 182.2067,-109.8436 187.1564,-114.7933\"/>\n",
       "</g>\n",
       "<!-- 6&#45;&gt;7 -->\n",
       "<g id=\"edge14\" class=\"edge\">\n",
       "<title>6&#45;&gt;7</title>\n",
       "<path fill=\"none\" stroke=\"#000000\" stroke-dasharray=\"5,2\" d=\"M306,-162C308.6147,-162 311.2295,-162 313.8442,-162\"/>\n",
       "<polygon fill=\"#000000\" stroke=\"#000000\" points=\"313.9297,-165.5001 323.9297,-162 313.9297,-158.5001 313.9297,-165.5001\"/>\n",
       "</g>\n",
       "<!-- 8&#45;&gt;6 -->\n",
       "<g id=\"edge13\" class=\"edge\">\n",
       "<title>8&#45;&gt;6</title>\n",
       "<path fill=\"none\" stroke=\"#000000\" stroke-dasharray=\"5,2\" d=\"M83.978,-101.4499C88.8229,-103.8225 94.0192,-106.1575 99,-108 160.872,-130.8879 181.128,-121.1121 243,-144 244.8678,-144.6909 246.7659,-145.4511 248.6644,-146.2566\"/>\n",
       "<polygon fill=\"#000000\" stroke=\"#000000\" points=\"247.4734,-149.5609 258.022,-150.5501 250.3926,-143.1986 247.4734,-149.5609\"/>\n",
       "</g>\n",
       "<!-- 11 -->\n",
       "<g id=\"node11\" class=\"node\">\n",
       "<title>11</title>\n",
       "<ellipse fill=\"none\" stroke=\"#000000\" cx=\"27\" cy=\"-18\" rx=\"27\" ry=\"18\"/>\n",
       "<text text-anchor=\"middle\" x=\"27\" y=\"-13.8\" font-family=\"Times,serif\" font-size=\"14.00\" fill=\"#000000\">d: 1</text>\n",
       "</g>\n",
       "<!-- 8&#45;&gt;11 -->\n",
       "<g id=\"edge10\" class=\"edge\">\n",
       "<title>8&#45;&gt;11</title>\n",
       "<path fill=\"none\" stroke=\"#000000\" d=\"M54.2854,-72.5708C50.0403,-64.0807 44.8464,-53.6929 40.1337,-44.2674\"/>\n",
       "<polygon fill=\"#000000\" stroke=\"#000000\" points=\"43.237,-42.6477 35.6343,-35.2687 36.976,-45.7782 43.237,-42.6477\"/>\n",
       "</g>\n",
       "<!-- 12 -->\n",
       "<g id=\"node12\" class=\"node\">\n",
       "<title>12</title>\n",
       "<ellipse fill=\"none\" stroke=\"#000000\" cx=\"99\" cy=\"-18\" rx=\"27\" ry=\"18\"/>\n",
       "<text text-anchor=\"middle\" x=\"99\" y=\"-13.8\" font-family=\"Times,serif\" font-size=\"14.00\" fill=\"#000000\">e: 1</text>\n",
       "</g>\n",
       "<!-- 8&#45;&gt;12 -->\n",
       "<g id=\"edge11\" class=\"edge\">\n",
       "<title>8&#45;&gt;12</title>\n",
       "<path fill=\"none\" stroke=\"#000000\" d=\"M71.7146,-72.5708C75.9597,-64.0807 81.1536,-53.6929 85.8663,-44.2674\"/>\n",
       "<polygon fill=\"#000000\" stroke=\"#000000\" points=\"89.024,-45.7782 90.3657,-35.2687 82.763,-42.6477 89.024,-45.7782\"/>\n",
       "</g>\n",
       "<!-- 9&#45;&gt;5 -->\n",
       "<g id=\"edge16\" class=\"edge\">\n",
       "<title>9&#45;&gt;5</title>\n",
       "<path fill=\"none\" stroke=\"#000000\" stroke-dasharray=\"5,2\" d=\"M150.2473,-105.2473C160.1703,-115.1703 173.2877,-128.2877 184.4117,-139.4117\"/>\n",
       "<polygon fill=\"#000000\" stroke=\"#000000\" points=\"182.1847,-142.1344 191.7307,-146.7307 187.1344,-137.1847 182.1847,-142.1344\"/>\n",
       "</g>\n",
       "<!-- 11&#45;&gt;9 -->\n",
       "<g id=\"edge15\" class=\"edge\">\n",
       "<title>11&#45;&gt;9</title>\n",
       "<path fill=\"none\" stroke=\"#000000\" stroke-dasharray=\"5,2\" d=\"M46.1411,-30.7607C63.1358,-42.0905 88.1752,-58.7835 107.3463,-71.5642\"/>\n",
       "<polygon fill=\"#000000\" stroke=\"#000000\" points=\"105.4298,-74.493 115.6918,-77.1278 109.3127,-68.6686 105.4298,-74.493\"/>\n",
       "</g>\n",
       "<!-- 12&#45;&gt;10 -->\n",
       "<g id=\"edge17\" class=\"edge\">\n",
       "<title>12&#45;&gt;10</title>\n",
       "<path fill=\"none\" stroke=\"#000000\" stroke-dasharray=\"5,2\" d=\"M118.1411,-30.7607C135.1358,-42.0905 160.1752,-58.7835 179.3463,-71.5642\"/>\n",
       "<polygon fill=\"#000000\" stroke=\"#000000\" points=\"177.4298,-74.493 187.6918,-77.1278 181.3127,-68.6686 177.4298,-74.493\"/>\n",
       "</g>\n",
       "</g>\n",
       "</svg>\n"
      ],
      "text/plain": [
       "<graphviz.dot.Digraph at 0x191e865b50>"
      ]
     },
     "execution_count": 28,
     "metadata": {},
     "output_type": "execute_result"
    }
   ],
   "source": [
    "d = Digraph()\n",
    "d.node('1', '{}')\n",
    "d.node('2', 'b: 8')\n",
    "d.node('3', 'a: 2')\n",
    "d.node('4', 'a: 4')\n",
    "d.node('5', 'd: 2')\n",
    "d.node('6', 'c: 2')\n",
    "d.node('7', 'c: 2')\n",
    "d.node('8', 'c: 2')\n",
    "d.node('9', 'd: 1')\n",
    "d.node('10', 'e: 1')\n",
    "d.node('11', 'd: 1')\n",
    "d.node('12', 'e: 1')\n",
    "\n",
    "d.edge('1', '2')\n",
    "d.edge('1', '3')\n",
    "d.edge('3', '7')\n",
    "d.edge('2', '4')\n",
    "d.edge('2', '5')\n",
    "d.edge('2', '6')\n",
    "d.edge('4', '8')\n",
    "d.edge('4', '9')\n",
    "d.edge('4', '10')\n",
    "d.edge('8', '11')\n",
    "d.edge('8', '12')\n",
    "\n",
    "d.edge('4', '3', style=\"dashed\", constraint=\"false\")\n",
    "d.edge('8', '6', style=\"dashed\", constraint=\"false\")\n",
    "d.edge('6', '7', style=\"dashed\", constraint=\"false\")\n",
    "d.edge('11', '9', style=\"dashed\", constraint=\"false\")\n",
    "d.edge('9', '5', style=\"dashed\", constraint=\"false\")\n",
    "d.edge('12', '10', style=\"dashed\", constraint=\"false\")\n",
    "\n",
    "d"
   ]
  },
  {
   "cell_type": "markdown",
   "metadata": {},
   "source": [
    "(b)"
   ]
  },
  {
   "cell_type": "markdown",
   "metadata": {},
   "source": [
    "Conditional pattern base for d is: {abc: 1, ab: 1, b: 2}.\n",
    "Then we construct its conditional FP-tree:"
   ]
  },
  {
   "cell_type": "code",
   "execution_count": 31,
   "metadata": {},
   "outputs": [
    {
     "data": {
      "image/svg+xml": [
       "<?xml version=\"1.0\" encoding=\"UTF-8\" standalone=\"no\"?>\n",
       "<!DOCTYPE svg PUBLIC \"-//W3C//DTD SVG 1.1//EN\"\n",
       " \"http://www.w3.org/Graphics/SVG/1.1/DTD/svg11.dtd\">\n",
       "<!-- Generated by graphviz version 2.40.1 (20161225.0304)\n",
       " -->\n",
       "<!-- Title: %3 Pages: 1 -->\n",
       "<svg width=\"62pt\" height=\"188pt\"\n",
       " viewBox=\"0.00 0.00 62.00 188.00\" xmlns=\"http://www.w3.org/2000/svg\" xmlns:xlink=\"http://www.w3.org/1999/xlink\">\n",
       "<g id=\"graph0\" class=\"graph\" transform=\"scale(1 1) rotate(0) translate(4 184)\">\n",
       "<title>%3</title>\n",
       "<polygon fill=\"#ffffff\" stroke=\"transparent\" points=\"-4,4 -4,-184 58,-184 58,4 -4,4\"/>\n",
       "<!-- 1 -->\n",
       "<g id=\"node1\" class=\"node\">\n",
       "<title>1</title>\n",
       "<ellipse fill=\"none\" stroke=\"#000000\" cx=\"27\" cy=\"-162\" rx=\"27\" ry=\"18\"/>\n",
       "<text text-anchor=\"middle\" x=\"27\" y=\"-157.8\" font-family=\"Times,serif\" font-size=\"14.00\" fill=\"#000000\">{}</text>\n",
       "</g>\n",
       "<!-- 2 -->\n",
       "<g id=\"node2\" class=\"node\">\n",
       "<title>2</title>\n",
       "<ellipse fill=\"none\" stroke=\"#000000\" cx=\"27\" cy=\"-90\" rx=\"27\" ry=\"18\"/>\n",
       "<text text-anchor=\"middle\" x=\"27\" y=\"-85.8\" font-family=\"Times,serif\" font-size=\"14.00\" fill=\"#000000\">b: 4</text>\n",
       "</g>\n",
       "<!-- 1&#45;&gt;2 -->\n",
       "<g id=\"edge1\" class=\"edge\">\n",
       "<title>1&#45;&gt;2</title>\n",
       "<path fill=\"none\" stroke=\"#000000\" d=\"M27,-143.8314C27,-136.131 27,-126.9743 27,-118.4166\"/>\n",
       "<polygon fill=\"#000000\" stroke=\"#000000\" points=\"30.5001,-118.4132 27,-108.4133 23.5001,-118.4133 30.5001,-118.4132\"/>\n",
       "</g>\n",
       "<!-- 3 -->\n",
       "<g id=\"node3\" class=\"node\">\n",
       "<title>3</title>\n",
       "<ellipse fill=\"none\" stroke=\"#000000\" cx=\"27\" cy=\"-18\" rx=\"27\" ry=\"18\"/>\n",
       "<text text-anchor=\"middle\" x=\"27\" y=\"-13.8\" font-family=\"Times,serif\" font-size=\"14.00\" fill=\"#000000\">a: 2</text>\n",
       "</g>\n",
       "<!-- 2&#45;&gt;3 -->\n",
       "<g id=\"edge2\" class=\"edge\">\n",
       "<title>2&#45;&gt;3</title>\n",
       "<path fill=\"none\" stroke=\"#000000\" d=\"M27,-71.8314C27,-64.131 27,-54.9743 27,-46.4166\"/>\n",
       "<polygon fill=\"#000000\" stroke=\"#000000\" points=\"30.5001,-46.4132 27,-36.4133 23.5001,-46.4133 30.5001,-46.4132\"/>\n",
       "</g>\n",
       "</g>\n",
       "</svg>\n"
      ],
      "text/plain": [
       "<graphviz.dot.Digraph at 0x191e852e10>"
      ]
     },
     "execution_count": 31,
     "metadata": {},
     "output_type": "execute_result"
    }
   ],
   "source": [
    "d_b = Digraph()\n",
    "d_b.node('1', '{}')\n",
    "d_b.node('2', 'b: 4')\n",
    "d_b.node('3', 'a: 2')\n",
    "\n",
    "d_b.edge('1', '2')\n",
    "d_b.edge('2', '3')\n",
    "\n",
    "d_b"
   ]
  },
  {
   "cell_type": "markdown",
   "metadata": {},
   "source": [
    "(c)\n",
    "\n",
    "So the frequent patterns for d is: {abd, ad, bd, d}"
   ]
  },
  {
   "cell_type": "markdown",
   "metadata": {},
   "source": [
    "## 2. Apriori for Yelp (50 pts) "
   ]
  },
  {
   "cell_type": "markdown",
   "metadata": {},
   "source": [
    "In `apriori.py`, fill the missing lines. The parameters are set as `min_suppport=50` and `min_conf` = 0.25, and `ignore_one_iter_set=True`. Use the Yelp data `yelp.csv` and `id_nams.csv`, and run the following cell and report the frequent patterns and rules associated with it. "
   ]
  },
  {
   "cell_type": "code",
   "execution_count": 35,
   "metadata": {},
   "outputs": [
    {
     "name": "stdout",
     "output_type": "stream",
     "text": [
      "item: \n",
      "\"Wicked Spoon\",\"Holsteins Shakes & Buns\" 51\n",
      "item: \n",
      "\"Wicked Spoon\",\"Earl of Sandwich\" 52\n",
      "item: \n",
      "\"Wicked Spoon\",\"Secret Pizza\" 52\n",
      "item: \n",
      "\"Wicked Spoon\",\"The Cosmopolitan of Las Vegas\" 54\n",
      "item: \n",
      "\"Mon Ami Gabi\",\"Wicked Spoon\" 57\n",
      "item: \n",
      "\"Bacchanal Buffet\",\"Wicked Spoon\" 63\n",
      "\n",
      "------------------------ RULES:\n",
      "Rule: \n",
      "\"Secret Pizza\" \"Wicked Spoon\" 0.2561576354679803\n",
      "Rule: \n",
      "\"The Cosmopolitan of Las Vegas\" \"Wicked Spoon\" 0.27692307692307694\n",
      "Rule: \n",
      "\"Holsteins Shakes & Buns\" \"Wicked Spoon\" 0.3148148148148148\n"
     ]
    }
   ],
   "source": [
    "#No need to modify\n",
    "from hw5code.apriori import * \n",
    "input_file = read_data('./data/yelp.csv') \n",
    "min_support = 50\n",
    "min_conf = 0.25\n",
    "items, rules = run_apriori(input_file, min_support, min_conf)\n",
    "name_map = read_name_map('./data/id_name.csv')\n",
    "print_items_rules(items, rules, ignore_one_item_set=True, name_map=name_map)\n",
    "\n"
   ]
  },
  {
   "cell_type": "markdown",
   "metadata": {},
   "source": [
    "What do these results mean? Do a quick Google search and briefly interpret the patterns and rules mined from Yelp in 50 words or less. "
   ]
  },
  {
   "cell_type": "markdown",
   "metadata": {},
   "source": [
    "<span style=\"color:blue\"> Please type your answer here! </span>\n",
    "\n",
    "The rules mean that these businesses are highly associated with each other.\n",
    "The Cosmopolitan of Las Vegas is a luxury resort, and the Secret Pizza, Wicked Spoon, and Holsteins Shakes & Buns are restaurants nearby. The high association means that people usually visit these place together (for example, they live at the resort and take meals in these restaurants)."
   ]
  },
  {
   "cell_type": "markdown",
   "metadata": {},
   "source": [
    "## 3. Correlation Analysis (10 pts)\n",
    "<span style=\"color:red\"> Note: This is a \"question-answer\" style problem. You do not need to code anything and you are required to calculate by hand (with a scientific calculator). </span>"
   ]
  },
  {
   "cell_type": "markdown",
   "metadata": {},
   "source": [
    "##### Table 2\n",
    "| --- | Beer | No Beer | Total | \n",
    "| --- | --- | --- | --- | \n",
    "| Nuts | 150 | 700 | 850 | \n",
    "| No Nuts | 350 | 8800 | 9150 |\n",
    "| Total | 500 | 9500 | 10000 |\n"
   ]
  },
  {
   "cell_type": "markdown",
   "metadata": {},
   "source": [
    "Table 2 shows how many transactions containing beer and/or nuts among 10000 transactions.<br>\n",
    "\n",
    "\n",
    "Answer the following questions:<br>\n",
    "\n",
    "3.1 Calculate `confidence`,`lift` and `all_confidence` between buying beer and buying nuts. <br>\n",
    "3.2 What are you conclusions of the relationship between buying beer and buying nuts? Justify your conclusion with the previous measurements you calculated in 3.1."
   ]
  },
  {
   "cell_type": "markdown",
   "metadata": {},
   "source": [
    "<span style=\"color:blue\"> Please type your answer here! </span>\n",
    "\n",
    "1.\n",
    "$$ confidence (Beer -> Nuts) = \\frac {support(Beer And Nuts)} {support(Beer)} = \\frac {150} {500} = 0.3 $$\n",
    "$$ confidence (Nuts -> Beer) = \\frac {support(Beer And Nuts)} {support(Nuts)} = \\frac {150} {850} = 0.17647 $$\n",
    "$$ lift = \\frac {P(Beer And Nuts)} {P(Beer)P(Nuts)} = \\frac {150} {850 * 500 / 10000} = 3.529 $$\n",
    "$$ all\\_confidence = min(confidence (Beer -> Nuts), confidence (Nuts -> Beer)) = 0.17647 $$"
   ]
  },
  {
   "cell_type": "markdown",
   "metadata": {},
   "source": [
    "2. \n",
    "Here we have lift > 1, which means that buying nuts and buying beer are positively correlated. Still, lift is not null-invariant, and its large positive value may be caused by the high number of transactions that do not contain beer or nuts. Then, we look at all_confidence, which is a null-invariant measure of correlation. In this case, all_confidence = 0.17647 < 0.5, which means transactions containing beer has little correlation with that containing nuts."
   ]
  },
  {
   "cell_type": "markdown",
   "metadata": {},
   "source": [
    "## 4. Sequential Pattern Mining (GSP Algorithm) (15 pts)                                                                                                                                                                                      \n",
    "<span style=\"color:red\"> Note: This is a \"question-answer\" style problem. You do not need to code anything and you are required to calculate by hand (with a scientific calculator). </span>\n",
    "\n",
    "4.1 For a sequence $s = <ab(cd)(ef)>$, how many events or elements does it contain? What is the length of $s$? How many non-empty subsequences does s contain? <br> \n",
    "4.2 Suppose we have $L_3 = \\{ <(ac)e> , <b(cd)> , <bce>, <a(cd)>, <(ab)d>, <(ab)c> \\}$, as the requent 3-sequences, write down all the candidate 4-sequences $C_4$ with the details of the join and pruning steps. "
   ]
  },
  {
   "cell_type": "markdown",
   "metadata": {},
   "source": [
    "<span style=\"color:blue\"> Please type your answer here! </span>"
   ]
  },
  {
   "cell_type": "markdown",
   "metadata": {},
   "source": [
    "1.\n",
    "This sequence contains 4 events: {a, b, (cd), (ef)}, and its length is 6. The number of non-empty subsequences is $2^6 - 1 = 63$"
   ]
  },
  {
   "cell_type": "markdown",
   "metadata": {},
   "source": [
    "2. \n",
    "\n",
    "Joining:\n",
    "\n",
    "Here, we can join $<(ab)c>$ and $<b(cd)>$ since they share common subsequence $bc$, and we get $<(ab)(cd)>$.\n",
    "\n",
    "We can also join $<(ab)c>$ with $<bce>$ since they also share the common subsequence $bc$, and we get $<(ab)ce>$.\n",
    "\n",
    "Pruning:\n",
    "\n",
    "For $<(ab)(cd)>$, its subsequences of length 3 are $<(ab)c>, <(ab)d>, <a(cd)>, <b(cd)>$, and they are all contained in $L_3$.\n",
    "\n",
    "For $<(ab)ce>$, its subsequences of length 3 are $<(ab)c>, <(ab)e>, <ace>, <bce>$, and $<(ab)e>, <ace>$ are not contained in $L_3$, so we pruned this sequence.\n",
    "\n",
    "Then, $C_4 = <(ab)(cd)>$\n"
   ]
  },
  {
   "cell_type": "markdown",
   "metadata": {},
   "source": [
    "## 5 Bonus Question (10 pts) "
   ]
  },
  {
   "cell_type": "markdown",
   "metadata": {},
   "source": [
    "1.In FP-tree, what will happen if we use `ascending` instead `descending` in header table? <br>\n",
    "2.Describe CloSpan (`Mining closed sequential patterns: CloSpan (Yan, Han & Afshar @SDM’03)`). Compare with algorithms we discussed in class."
   ]
  },
  {
   "cell_type": "markdown",
   "metadata": {},
   "source": [
    "<span style=\"color:blue\"> Please type your answer here! </span>"
   ]
  },
  {
   "cell_type": "markdown",
   "metadata": {},
   "source": [
    "1. \n",
    "If we use ascending order in header table, then the less frequent items will appear before the more frequent items. This will cause the tree to grow wider and have more branches, since it is very possible that the frequent items are not included and thus not appear in the same branch with the top entries of the header table. Thus, the algorithm will take longer to run and use more spaces to store the FP-trees, which is an extra cost."
   ]
  },
  {
   "cell_type": "markdown",
   "metadata": {},
   "source": [
    "2.\n",
    "First, we know that a closed pattern is a pattern such that it is not included in another pattern having the same support. Then, the CloSpan aims to discover all frequent(i.e. with support >= min_support) closed patterns in a database. The CloSpan is a further development of PrefixSpan that we learnt in class, since it prunes redundant patterns with Backward Subpattern and Backward Superpattern pruning and also attains the same information with the Prefix Span algorithm. It can efficiently reduces the search space and speeds up the pattern finding process.\n",
    "\n"
   ]
  },
  {
   "cell_type": "markdown",
   "metadata": {},
   "source": [
    "# End of Homework 5 :)\n",
    "After you've finished the homework, please print out the entire `ipynb` notebook and four `py` files into one PDF file. Make sure you include the output of code cells and answers for questions. Prepare submit it to GradeScope. Also this time remember assign the pages to the questions on GradeScope"
   ]
  }
 ],
 "metadata": {
  "kernelspec": {
   "display_name": "Python 3",
   "language": "python",
   "name": "python3"
  },
  "language_info": {
   "codemirror_mode": {
    "name": "ipython",
    "version": 3
   },
   "file_extension": ".py",
   "mimetype": "text/x-python",
   "name": "python",
   "nbconvert_exporter": "python",
   "pygments_lexer": "ipython3",
   "version": "3.7.9"
  }
 },
 "nbformat": 4,
 "nbformat_minor": 4
}
